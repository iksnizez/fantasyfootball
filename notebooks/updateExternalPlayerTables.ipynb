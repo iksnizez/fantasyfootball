{
 "cells": [
  {
   "cell_type": "code",
   "execution_count": 1,
   "id": "4c8cf5b2",
   "metadata": {},
   "outputs": [
    {
     "name": "stdout",
     "output_type": "stream",
     "text": [
      "successfully added data to player_nfldatapy\n"
     ]
    }
   ],
   "source": [
    "##### importing custom modules from the projects folder\n",
    "import sys\n",
    "from pathlib import Path\n",
    "# Add project root to sys.path\n",
    "PROJECT_ROOT = Path.cwd().parent if Path.cwd().name == \"notebooks\" else Path.cwd()\n",
    "sys.path.append(str(PROJECT_ROOT))\n",
    "import modules.helperModule as hf\n",
    "##### -------------------------------------------------\n",
    "\n",
    "hf.refresh_id_table()\n"
   ]
  },
  {
   "cell_type": "code",
   "execution_count": 2,
   "id": "65e9615a",
   "metadata": {},
   "outputs": [
    {
     "name": "stdout",
     "output_type": "stream",
     "text": [
      "successfully added data to player_sleeper\n"
     ]
    }
   ],
   "source": [
    "hf.refresh_sleeper_player_id_table()"
   ]
  },
  {
   "cell_type": "code",
   "execution_count": null,
   "id": "5834e52e",
   "metadata": {},
   "outputs": [],
   "source": []
  }
 ],
 "metadata": {
  "kernelspec": {
   "display_name": "fantasyfootball",
   "language": "python",
   "name": "python3"
  },
  "language_info": {
   "codemirror_mode": {
    "name": "ipython",
    "version": 3
   },
   "file_extension": ".py",
   "mimetype": "text/x-python",
   "name": "python",
   "nbconvert_exporter": "python",
   "pygments_lexer": "ipython3",
   "version": "3.12.10"
  }
 },
 "nbformat": 4,
 "nbformat_minor": 5
}
