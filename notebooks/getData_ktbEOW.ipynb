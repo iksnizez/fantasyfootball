{
 "cells": [
  {
   "cell_type": "code",
   "execution_count": null,
   "id": "df7d2b2b",
   "metadata": {},
   "outputs": [],
   "source": [
    "##### importing custom modules from the projects folder\n",
    "import sys\n",
    "from pathlib import Path\n",
    "# Add project root to sys.path\n",
    "PROJECT_ROOT = Path.cwd().parent if Path.cwd().name == \"notebooks\" else Path.cwd()\n",
    "sys.path.append(str(PROJECT_ROOT))\n",
    "import modules.ktbFantasyFootball as ktbff\n",
    "##### -------------------------------------------------\n",
    "from datetime import date\n",
    "\n",
    "##### PARAMS ######\n",
    "league = 'nfl'\n",
    "export = True\n",
    "today = date.today()\n",
    "season = 2025\n",
    "week = int(input(\"What week is it >>>>>> ? \"))\n",
    "print(today, \"Week:\", week)\n",
    "\n",
    "league = ktbff.ktb(\n",
    "    season = season,\n",
    "    week = week,\n",
    "    database_export = False, \n",
    "    store_locally=True\n",
    ")"
   ]
  },
  {
   "cell_type": "markdown",
   "id": "d0fbcc7d",
   "metadata": {},
   "source": [
    "# get data"
   ]
  },
  {
   "cell_type": "code",
   "execution_count": null,
   "id": "9a73a1e3",
   "metadata": {},
   "outputs": [],
   "source": [
    "league.get_weekly_data()"
   ]
  },
  {
   "cell_type": "markdown",
   "id": "586b88b8",
   "metadata": {},
   "source": [
    "# process data"
   ]
  },
  {
   "cell_type": "markdown",
   "id": "229449ce",
   "metadata": {},
   "source": []
  }
 ],
 "metadata": {
  "language_info": {
   "name": "python"
  }
 },
 "nbformat": 4,
 "nbformat_minor": 5
}
