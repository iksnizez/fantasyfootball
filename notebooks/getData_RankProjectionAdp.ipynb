{
 "cells": [
  {
   "cell_type": "code",
   "execution_count": 92,
   "id": "be771a9e",
   "metadata": {},
   "outputs": [
    {
     "name": "stdout",
     "output_type": "stream",
     "text": [
      "2025-08-16 Week: 0\n"
     ]
    }
   ],
   "source": [
    "##### importing custom modules from the projects folder\n",
    "import sys\n",
    "from pathlib import Path\n",
    "# Add project root to sys.path\n",
    "PROJECT_ROOT = Path.cwd().parent if Path.cwd().name == \"notebooks\" else Path.cwd()\n",
    "sys.path.append(str(PROJECT_ROOT))\n",
    "import modules.scrapers as scrapers\n",
    "##### -------------------------------------------------\n",
    "from datetime import date\n",
    "\n",
    "##### PARAMS ######\n",
    "league = 'nfl'\n",
    "export = True\n",
    "today = date.today()\n",
    "season = 2025\n",
    "inseason = False\n",
    "week = int(input(\"What week is it >>>>>> ? \"))\n",
    "print(today, \"Week:\", week)\n",
    "\n",
    "scraper = scrapers.scrapers(\n",
    "    season = season,\n",
    "    week = week,\n",
    "    today = today\n",
    ")"
   ]
  },
  {
   "cell_type": "code",
   "execution_count": null,
   "id": "83a0dae3",
   "metadata": {},
   "outputs": [],
   "source": [
    "#*******ONLY RUNS INSEASON FOR UPDATING ACTUAL GAME RESULTS AT THE END OF THE WEEK\n",
    "#scraper.cbs_game_scores(inseason = inseason, export = export)"
   ]
  },
  {
   "cell_type": "markdown",
   "id": "ee2663eb",
   "metadata": {},
   "source": [
    "### can run offseason or inseason"
   ]
  },
  {
   "cell_type": "code",
   "execution_count": null,
   "id": "7028f15a",
   "metadata": {},
   "outputs": [],
   "source": [
    "# in- and off-season\n",
    "scraper.cbs_projections(inseason = inseason, export = export)"
   ]
  },
  {
   "cell_type": "code",
   "execution_count": null,
   "id": "f9548528",
   "metadata": {},
   "outputs": [],
   "source": [
    "# doesn't work anymore\n",
    "#scraper.cbs_rankings(export = export)"
   ]
  },
  {
   "cell_type": "code",
   "execution_count": null,
   "id": "8c14652e",
   "metadata": {},
   "outputs": [],
   "source": [
    "# in- and off-season\n",
    "scraper.ffp_ecr_rankings(inseason = inseason, export = export)"
   ]
  },
  {
   "cell_type": "code",
   "execution_count": null,
   "id": "c2a2c449",
   "metadata": {},
   "outputs": [],
   "source": [
    "# in- and off-season\n",
    "scraper.espn_projections(inseason = inseason, export = export)"
   ]
  },
  {
   "cell_type": "code",
   "execution_count": null,
   "id": "a61f77de",
   "metadata": {},
   "outputs": [],
   "source": [
    "# in- and off-season\n",
    "scraper.espn_rankings(inseason = inseason, export = export)"
   ]
  },
  {
   "cell_type": "code",
   "execution_count": null,
   "id": "047e90c1",
   "metadata": {},
   "outputs": [],
   "source": [
    "# in- and off-season\n",
    "scraper.nfl_projections(inseason = inseason, export = export)"
   ]
  },
  {
   "cell_type": "code",
   "execution_count": null,
   "id": "616a8485",
   "metadata": {},
   "outputs": [],
   "source": [
    "# in- and off-season\n",
    "scraper.nfl_rankings(inseason = inseason, export = export)"
   ]
  },
  {
   "cell_type": "code",
   "execution_count": null,
   "id": "1af8abec",
   "metadata": {},
   "outputs": [],
   "source": [
    "scraper.bp_lines(export = export)"
   ]
  },
  {
   "cell_type": "markdown",
   "id": "12dab6a5",
   "metadata": {},
   "source": [
    "#  ADP"
   ]
  },
  {
   "cell_type": "code",
   "execution_count": 95,
   "id": "16577e07",
   "metadata": {},
   "outputs": [],
   "source": [
    "scraper.cbs_adp(\n",
    "    export = export\n",
    ")"
   ]
  },
  {
   "cell_type": "code",
   "execution_count": null,
   "id": "23295fdf",
   "metadata": {},
   "outputs": [],
   "source": [
    "scraper.ffp_adp(\n",
    "        export = export\n",
    "    )"
   ]
  },
  {
   "cell_type": "code",
   "execution_count": null,
   "id": "e30c7874",
   "metadata": {},
   "outputs": [],
   "source": [
    "scraper.espn_adp(\n",
    "        export = export\n",
    "    )"
   ]
  },
  {
   "cell_type": "code",
   "execution_count": null,
   "id": "b025001d",
   "metadata": {},
   "outputs": [],
   "source": []
  }
 ],
 "metadata": {
  "kernelspec": {
   "display_name": "fantasyfootball",
   "language": "python",
   "name": "python3"
  },
  "language_info": {
   "codemirror_mode": {
    "name": "ipython",
    "version": 3
   },
   "file_extension": ".py",
   "mimetype": "text/x-python",
   "name": "python",
   "nbconvert_exporter": "python",
   "pygments_lexer": "ipython3",
   "version": "3.13.6"
  }
 },
 "nbformat": 4,
 "nbformat_minor": 5
}
