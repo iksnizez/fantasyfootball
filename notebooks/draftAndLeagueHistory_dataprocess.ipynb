{
 "cells": [
  {
   "cell_type": "code",
   "execution_count": 5,
   "id": "28bbe090-6174-45e5-bd05-422a678abaea",
   "metadata": {},
   "outputs": [],
   "source": [
    "import requests, time, re, os, json, math\n",
    "import pymysql, pyodbc\n",
    "import sqlalchemy as sal\n",
    "from sqlalchemy import create_engine\n",
    "import pandas as pd\n",
    "import numpy as np\n",
    "from bs4 import BeautifulSoup as bs\n",
    "\n",
    "pd.set_option('display.max_rows', 500)\n",
    "pd.set_option('display.max_columns', 500)\n",
    "\n",
    "#importing credentials\n",
    "with open('../../../Notes-General/config.txt', 'r') as f:\n",
    "    creds = f.read()\n",
    "creds = json.loads(creds)\n",
    "league = 'nfl'\n",
    "\n",
    "#### PARAMETERS ######\n",
    "# assign directory and save output path\n",
    "# the \"..\\\" is because the script and output/data folders are at the same level\n",
    "pathToLh = '..\\\\data\\\\League History\\\\2023-2023_league_history.txt'\n",
    "# folder to draft htmls\n",
    "directory = '..\\data\\Draft'\n",
    "# output paths for excels\n",
    "outputPathDraft = '..\\\\data\\\\Draft\\\\draftHistoryLoad.csv'\n",
    "outputPathTeams = '..\\\\data\\\\League History\\\\teamsLoad.xlsx'\n",
    "outputPathGames = '..\\\\data\\\\League History\\\\gamesLoad.xlsx'\n",
    "outputPathPlayers = '..\\\\data\\\\League History\\\\playersLoad.xlsx'"
   ]
  },
  {
   "cell_type": "markdown",
   "id": "ea39a87a-4302-417b-b6d0-75cf80030776",
   "metadata": {},
   "source": [
    "# PROCESS DRAFT PAGE HTML - save html directly from webpage and save to text file"
   ]
  },
  {
   "cell_type": "code",
   "execution_count": 114,
   "id": "2f672476-7bd3-4512-9f11-b6b5cfaf804d",
   "metadata": {},
   "outputs": [],
   "source": [
    "### INPUTS THAT NEED TO BE UPDATE FOR USER\n",
    "# number of teams in the league\n",
    "nTeams = 12\n",
    "\n",
    "#suffixes = [\"Jr.\", \"Sr.\", \"II\", \"III\", \"IV\", \"V\", \"VI\", \"VII\", \"VIII\", \"IX\"]  # name suffixes that will be\n",
    "\n",
    "# this will hold the agg for all of the years\n",
    "drafts = pd.DataFrame(columns=['season', 'pick', 'round', 'overallPick',\n",
    "                               'name', 'playerTeam', 'pos', 'teamName'])\n",
    "\n",
    "# iterate over files in  that directory\n",
    "for filename in os.scandir(directory):\n",
    "    if filename.is_file():\n",
    "\n",
    "        # the file is just the <divs> that contain the draft round data\n",
    "        # parent div at the time of creation = <div class=\"ResponsiveTable\">\n",
    "        # details for each pick are <td class=Table__TD>  there are 3 <td>s for each pick\n",
    "        with open(filename.path, \"r\", encoding='utf-8') as f:\n",
    "            data = f.read()\n",
    "\n",
    "        soup = bs(data, \"html.parser\")\n",
    "        picks = soup.find_all(\"td\", class_=\"Table__TD\")\n",
    "        \n",
    "        o = 1  # overall pick count tracker\n",
    "        year = filename.name.split(\".\")[0]\n",
    "\n",
    "        for p in range(0, len(picks), 3):\n",
    "            # p = pick number; p+1= player name, team, pos; p+2 = fantasy team\n",
    "\n",
    "            # splitting the player info <td>\n",
    "            playerInfo = picks[p + 1].text.split()\n",
    "\n",
    "            # checking for name suffixes and collapsing them into the last name when they exist\n",
    "            if len(playerInfo) == 5:\n",
    "                suffix = playerInfo.pop(2)\n",
    "                playerInfo[1] += \" \" + suffix\n",
    "\n",
    "            firstName = playerInfo[0]\n",
    "            lastName = playerInfo[1]\n",
    "            name = firstName + \" \" + lastName\n",
    "            team = playerInfo[2].replace(\",\", \"\")\n",
    "            pos = playerInfo[3]\n",
    "\n",
    "            # round details\n",
    "            n = int(picks[p].text)  # pick number in the round\n",
    "            r = math.ceil((o / nTeams))  # round number\n",
    "\n",
    "            # fantasy team making the pick\n",
    "            fTeam = picks[p + 2].text\n",
    "\n",
    "            pick = [int(year), n, r, o, name, team, pos, fTeam]\n",
    "            # drafts = pd.concat([drafts, pick], ignore_index=True)\n",
    "            drafts.loc[len(drafts.index)] = pick\n",
    "            o += 1\n"
   ]
  },
  {
   "cell_type": "markdown",
   "id": "bdc5da35-9f2e-4c45-aa31-ae0bc56bd03d",
   "metadata": {},
   "source": [
    "# PROCESS END OF SEASON LEAGUE HISTORY DATA"
   ]
  },
  {
   "cell_type": "code",
   "execution_count": 46,
   "id": "c4d77b3a-66b9-4847-a8f9-95dab7757330",
   "metadata": {},
   "outputs": [],
   "source": [
    "with open(pathToLh, 'r') as f:\n",
    "    d = f.read()\n",
    "js = json.loads(d)"
   ]
  },
  {
   "cell_type": "markdown",
   "id": "6852b1a4-451a-410a-9ba2-6289a0eab59f",
   "metadata": {},
   "source": [
    "##### mTeam"
   ]
  },
  {
   "cell_type": "code",
   "execution_count": 115,
   "id": "905a5446-6c50-45d0-93d3-b49782ef6018",
   "metadata": {},
   "outputs": [],
   "source": [
    "### mTeam - has most team specific, season totals \n",
    "season = 2023\n",
    "allTeamData = []\n",
    "\n",
    "# teams are dictionaries in a single list\n",
    "teams = js['teams']\n",
    "\n",
    "# looping through team to create df for db load\n",
    "for t in teams:\n",
    "    teamId = t['id']\n",
    "    #teamName = t['location'] + \" \" +  t['nickname'] \n",
    "    teamName = t['name']\n",
    "    abbr = t['abbrev']\n",
    "    pfAllSeason = t['points']\n",
    "    rankRegSeason = t['playoffSeed']\n",
    "    rankFinalCalc = t['rankCalculatedFinal']\n",
    "    draftDayProjRank = t['draftDayProjectedRank']\n",
    "    wins = t['record']['overall']['wins']\n",
    "    losses = t['record']['overall']['losses']\n",
    "    ties = t['record']['overall']['ties']\n",
    "    pf = t['record']['overall']['pointsFor']\n",
    "    pa = t['record']['overall']['pointsAgainst']\n",
    "    streak = t['record']['overall']['streakLength']\n",
    "    streakType = t['record']['overall']['streakType']\n",
    "    budgetSpent = t['transactionCounter']['acquisitionBudgetSpent']\n",
    "    acqs = t['transactionCounter']['acquisitions']\n",
    "    drops = t['transactionCounter']['drops']\n",
    "    \n",
    "    \n",
    "    team = [int(season), teamId, teamName, abbr, wins, losses, ties, pf, pa, pfAllSeason,\n",
    "            rankRegSeason, rankFinalCalc,  streak, streakType, \n",
    "            budgetSpent, acqs, drops, draftDayProjRank]\n",
    "    allTeamData.append(team)\n",
    "        \n",
    "cols = ['season', 'teamId', 'teamName', 'abbr', 'wins', 'losses', 'ties', 'pf', 'pa', 'pfAllSeason',\n",
    "        'rankRegSeason', 'rankFinalCalc', 'streak', 'streakType', \n",
    "        'budgetSpent', 'acqs', 'drops', 'draftDayProjRank']\n",
    "teams = pd.DataFrame(allTeamData, columns = cols)"
   ]
  },
  {
   "cell_type": "code",
   "execution_count": null,
   "id": "44d9451f-6de2-42e9-8239-cd23965ccd03",
   "metadata": {
    "jupyter": {
     "source_hidden": true
    }
   },
   "outputs": [],
   "source": [
    "################ MULTIPLE YEARS\n",
    "### mTeam - has most team specific, season totals \n",
    "allTeamData = []\n",
    "\n",
    "# looping through league history data. outermost keys are season years\n",
    "for y in js.keys():\n",
    "    # teams are dictionaries in a single list\n",
    "    teams = js[y]['mTeam']['teams']\n",
    "    # looping through team to create df for db load\n",
    "    for t in teams:\n",
    "        teamId = t['id']\n",
    "        teamName = t['location'] + \" \" +  t['nickname'] \n",
    "        abbr = t['abbrev']\n",
    "        pfAllSeason = t['points']\n",
    "        rankRegSeason = t['playoffSeed']\n",
    "        rankFinalCalc = t['rankCalculatedFinal']\n",
    "        wins = t['record']['overall']['wins']\n",
    "        losses = t['record']['overall']['losses']\n",
    "        ties = t['record']['overall']['ties']\n",
    "        pf = t['record']['overall']['pointsFor']\n",
    "        pa = t['record']['overall']['pointsAgainst']\n",
    "        streak = t['record']['overall']['streakLength']\n",
    "        streakType = t['record']['overall']['streakType']\n",
    "        budgetSpent = t['transactionCounter']['acquisitionBudgetSpent']\n",
    "        acqs = t['transactionCounter']['acquisitions']\n",
    "        drops = t['transactionCounter']['drops']\n",
    "        \n",
    "        team = [int(y), teamId, teamName, abbr, wins, losses, ties, pf, pa, pfAllSeason,\n",
    "                rankRegSeason, rankFinalCalc,  streak, streakType, \n",
    "                budgetSpent, acqs, drops ]\n",
    "        allTeamData.append(team)\n",
    "        \n",
    "cols = ['season', 'teamId', 'teamName', 'abbr', 'wins', 'losses', 'ties', 'pf', 'pa', 'pfAllSeason',\n",
    "        'rankRegSeason', 'rankFinalCalc', 'streak', 'streakType', \n",
    "        'budgetSpent', 'acqs', 'drops' ]\n",
    "teams = pd.DataFrame(allTeamData, columns = cols)\n",
    "\n",
    "# filling in blank names from season 1\n",
    "teams.iloc[10, 2] = \"t1\"\n",
    "teams.iloc[11, 2] = \"t2\""
   ]
  },
  {
   "cell_type": "markdown",
   "id": "6be82ec3-57ce-4566-92fa-74507290d513",
   "metadata": {},
   "source": [
    "##### mBoxscore"
   ]
  },
  {
   "cell_type": "code",
   "execution_count": 116,
   "id": "22bc0238-2eba-44d8-9c9f-5a7440c92673",
   "metadata": {},
   "outputs": [],
   "source": [
    "## mBoxscore - has weekly matchup scores at the team level when looking at league history\n",
    "# it has player scores too if looking in season during a week.\n",
    "\n",
    "allGames = []\n",
    "playoffStarts = {}\n",
    "\n",
    "gameResults = js['schedule']\n",
    "\n",
    "for i in range(len(gameResults)):\n",
    "    g = gameResults[i]\n",
    "    \n",
    "    # handles playoff bye weeks\n",
    "    if 'away' not in g:\n",
    "        home = g['home']\n",
    "        \n",
    "        firstPlayoffWeek = g['matchupPeriodId']\n",
    "        #checks if the season is already in the dict and skips re assigning if it is\n",
    "        if season in playoffStarts:\n",
    "            pass\n",
    "        else:\n",
    "           playoffStarts[int(season)] = firstPlayoffWeek\n",
    "        \n",
    "        week = g['matchupPeriodId']\n",
    "        gameId = g['id']\n",
    "        bye = 1\n",
    "        teamOneId = None\n",
    "        teamOneTiebreak = None\n",
    "        teamOnePf = None\n",
    "        \n",
    "        teamTwoId = home['teamId']\n",
    "        teamTwoTiebreak = home['tiebreak']\n",
    "        teamTwoPf = home['totalPoints']\n",
    "        \n",
    "        winner = 0\n",
    "        loser = 0\n",
    "        tieTeamOne = 0  \n",
    "        tieTeamTwo = 0\n",
    "        \n",
    "    # flatten game results for non-bye matchups\n",
    "    else:\n",
    "        week = g['matchupPeriodId']\n",
    "        gameId = g['id']\n",
    "        bye = 0\n",
    "        \n",
    "        away = g['away']\n",
    "        home = g['home']\n",
    "    \n",
    "        teamOneId = away['teamId']\n",
    "        teamOneTiebreak = away['tiebreak']\n",
    "        teamOnePf = away['totalPoints']\n",
    "\n",
    "        \n",
    "        teamTwoId = home['teamId']\n",
    "        teamTwoTiebreak = home['tiebreak']\n",
    "        teamTwoPf = home['totalPoints']\n",
    "    \n",
    "        # label winner and loser\n",
    "        if (teamOnePf + teamOneTiebreak) > (teamTwoPf + teamTwoTiebreak):\n",
    "            winner = teamOneId\n",
    "            loser = teamTwoId\n",
    "            tieTeamOne = 0  \n",
    "            tieTeamTwo = 0\n",
    "        elif (teamOnePf + teamOneTiebreak) < (teamTwoPf + teamTwoTiebreak):\n",
    "            winner = teamTwoId\n",
    "            loser = teamOneId\n",
    "            tieTeamOne = 0\n",
    "            tieTeamTwo = 0\n",
    "        else:\n",
    "            winner = 0\n",
    "            loser = 0\n",
    "            tieTeamOne = teamOneId\n",
    "            tieTeamTwo = teamTwoId\n",
    "    \n",
    "    gameResult = [int(season), week, gameId, teamOneId, teamOnePf, teamOneTiebreak, teamTwoId,\n",
    "                  teamTwoPf, teamTwoTiebreak, winner, loser, tieTeamOne, tieTeamTwo,\n",
    "                  bye#, playoff\n",
    "                 ]\n",
    "    allGames.append(gameResult)\n",
    "        \n",
    "cols = ['season', 'week', 'gameId', 'teamOneId', 'teamOnePf', 'teamOneTiebreak',\n",
    "        'teamTwoId','teamTwoPf', 'teamTwoTiebreak', 'winner', 'loser', 'tieTeamOne', \n",
    "        'tieTeamTwo',  'bye'#, 'playoffs'\n",
    "       ]\n",
    "\n",
    "games = pd.DataFrame(allGames, columns = cols)\n",
    "\n",
    "#will add values to this in the loop below\n",
    "games['playoffs'] = 0\n",
    "\n",
    "# adding playoff flag\n",
    "for k, v in playoffStarts.items():\n",
    "    \n",
    "    # regular season games\n",
    "    mask = ((games['season'] == k) & (games['week'] < v))\n",
    "    games.loc[mask, 'playoffs'] = 0\n",
    "    # play off games\n",
    "    mask = ((games['season'] == k) & (games['week'] >= v))\n",
    "    games.loc[mask, 'playoffs'] = 1                          "
   ]
  },
  {
   "cell_type": "code",
   "execution_count": 160,
   "id": "9b172e2a-656b-4ee7-b5d9-1b4e369978b1",
   "metadata": {
    "jupyter": {
     "source_hidden": true
    }
   },
   "outputs": [],
   "source": [
    "###### FOR MULTIPLE YEARS\n",
    "\n",
    "## mBoxscore - has weekly matchup scores at the team level when looking at league history\n",
    "# it has player scores too if looking in season during a week.\n",
    "\n",
    "allGames = []\n",
    "playoffStarts = {}\n",
    "for y in js.keys():\n",
    "    gameResults = js[y]['mBoxscore']['schedule']\n",
    "\n",
    "    for i in range(len(gameResults)):\n",
    "        g = gameResults[i]\n",
    "        \n",
    "        # handles playoff bye weeks\n",
    "        if 'away' not in g:\n",
    "            home = g['home']\n",
    "            \n",
    "            firstPlayoffWeek = g['matchupPeriodId']\n",
    "            #checks if the season is already in the dict and skips re assigning if it is\n",
    "            if y in playoffStarts:\n",
    "                pass\n",
    "            else:\n",
    "               playoffStarts[int(y)] = firstPlayoffWeek\n",
    "            \n",
    "            week = g['matchupPeriodId']\n",
    "            gameId = g['id']\n",
    "            bye = 1\n",
    "            teamOneId = None\n",
    "            teamOneTiebreak = None\n",
    "            teamOnePf = None\n",
    "            \n",
    "            teamTwoId = home['teamId']\n",
    "            teamTwoTiebreak = home['tiebreak']\n",
    "            teamTwoPf = home['totalPoints']\n",
    "            \n",
    "            winner = 0\n",
    "            loser = 0\n",
    "            tieTeamOne = 0  \n",
    "            tieTeamTwo = 0\n",
    "            \n",
    "        # flatten game results for non-bye matchups\n",
    "        else:\n",
    "            week = g['matchupPeriodId']\n",
    "            gameId = g['id']\n",
    "            bye = 0\n",
    "            \n",
    "            away = g['away']\n",
    "            home = g['home']\n",
    "        \n",
    "            teamOneId = away['teamId']\n",
    "            teamOneTiebreak = away['tiebreak']\n",
    "            teamOnePf = away['totalPoints']\n",
    "\n",
    "            \n",
    "            teamTwoId = home['teamId']\n",
    "            teamTwoTiebreak = home['tiebreak']\n",
    "            teamTwoPf = home['totalPoints']\n",
    "        \n",
    "            # label winner and loser\n",
    "            if (teamOnePf + teamOneTiebreak) > (teamTwoPf + teamTwoTiebreak):\n",
    "                winner = teamOneId\n",
    "                loser = teamTwoId\n",
    "                tieTeamOne = 0  \n",
    "                tieTeamTwo = 0\n",
    "            elif (teamOnePf + teamOneTiebreak) < (teamTwoPf + teamTwoTiebreak):\n",
    "                winner = teamTwoId\n",
    "                loser = teamOneId\n",
    "                tieTeamOne = 0\n",
    "                tieTeamTwo = 0\n",
    "            else:\n",
    "                winner = 0\n",
    "                loser = 0\n",
    "                tieTeamOne = teamOneId\n",
    "                tieTeamTwo = teamTwoId\n",
    "        \n",
    "        gameResult = [int(y), week, gameId, teamOneId, teamOnePf, teamOneTiebreak, teamTwoId,\n",
    "                      teamTwoPf, teamTwoTiebreak, winner, loser, tieTeamOne, tieTeamTwo,\n",
    "                      bye#, playoff\n",
    "                     ]\n",
    "        allGames.append(gameResult)\n",
    "        \n",
    "cols = ['season', 'week', 'gameId', 'teamOneId', 'teamOnePf', 'teamOneTiebreak',\n",
    "        'teamTwoId','teamTwoPf', 'teamTwoTiebreak', 'winner', 'loser', 'tieTeamOne', \n",
    "        'tieTeamTwo',  'bye'#, 'playoffs'\n",
    "       ]\n",
    "\n",
    "games = pd.DataFrame(allGames, columns = cols)\n",
    "\n",
    "#will add values to this in the loop below\n",
    "games['playoffs'] = 0\n",
    "\n",
    "# adding playoff flag\n",
    "for k, v in playoffStarts.items():\n",
    "    \n",
    "    # regular season games\n",
    "    mask = ((games['season'] == k) & (games['week'] < v))\n",
    "    games.loc[mask, 'playoffs'] = 0\n",
    "    # play off games\n",
    "    mask = ((games['season'] == k) & (games['week'] >= v))\n",
    "    games.loc[mask, 'playoffs'] = 1                                 "
   ]
  },
  {
   "cell_type": "markdown",
   "id": "4d3bdfba-7716-48c1-a68e-329c1a6a2d63",
   "metadata": {},
   "source": [
    "##### kona_player_info"
   ]
  },
  {
   "cell_type": "code",
   "execution_count": 139,
   "id": "5851fb58-9092-4575-be65-88aa9c684dd8",
   "metadata": {
    "scrolled": true
   },
   "outputs": [
    {
     "data": {
      "text/plain": [
       "dict_keys(['players', 'positionAgainstOpponent'])"
      ]
     },
     "execution_count": 139,
     "metadata": {},
     "output_type": "execute_result"
    }
   ],
   "source": [
    "season = 2023\n",
    "with open(r\"..\\data\\League History\\2023-2023_player_history.txt\", 'r') as f:\n",
    "    d = f.read()\n",
    "js = json.loads(d)\n",
    "js.keys()"
   ]
  },
  {
   "cell_type": "code",
   "execution_count": 140,
   "id": "01e3e896-cb6a-483a-9843-fbe4b53a69f5",
   "metadata": {},
   "outputs": [],
   "source": [
    "### kona_player_info\n",
    "# this has player stats, info, scoring for season total and weekly (when searching in season)\n",
    "playerCount = {\n",
    "    0:0, 1:0, 2:0, 3:0, 4:0, 5:0, 6:0, 7:0, 8:0, 9:0, 10:0, 11:0, 12:0\n",
    "}\n",
    "\n",
    "allPlayers = []\n",
    "\n",
    "players = js['players']\n",
    "for p in players:\n",
    "    \n",
    "    #playerCount[p['onTeamId']] += 1\n",
    "    playerId = p['id']\n",
    "    ktbTeamId = p['onTeamId']\n",
    "    nflTeamId = p['player']['proTeamId']\n",
    "    playerName = p['player']['fullName']\n",
    "    defaultPositionId = p['player']['defaultPositionId']\n",
    "    ############# <<<<<<<<<<<<<<<<<<<<<<<<<<<<<<<<<<<<<<<<<< NEED TO FIGURE OUT HOW TO STORE ALL ELIGLBLE POS ID SLOTS\n",
    "    #eligibleSlots = p['player']['eligibleSlots']\n",
    "    try:\n",
    "        auctionValue = p['player']['ownership']['auctionValueAverage']\n",
    "        adp =  p['player']['ownership']['averageDraftPosition']\n",
    "\n",
    "        stats = p['player']['stats']\n",
    "    except:\n",
    "        continue\n",
    "\n",
    "    # they started adding multiple entries to the stats landing, there is final week of the season\n",
    "    # and 2 others I can't figure out what they are. The season long one has an id of '00<year>'\n",
    "    if len(stats) > 1:\n",
    "        #searching for the correct id\n",
    "        for s in stats:\n",
    "            if s['id' ] != '00' + str(season):\n",
    "                continue\n",
    "            else:\n",
    "                points = s['appliedTotal']\n",
    "                pointsAvg = s['appliedAverage']\n",
    "    else:\n",
    "        points = stats[0]['appliedTotal']\n",
    "        pointsAvg = stats[0]['appliedAverage']\n",
    "        \n",
    "    ############# <<<<<<<<<<<<<<<<<<<<<<<<<<<<<<<<<<<<<<<<<< NEED TO SEPARTE THE STATS, FIND ESPN ID TO STAT NAME MAP\n",
    "    #stats = p['player']['stats']['stats']\n",
    "    try:\n",
    "        positionRank =  p['ratings']['0']['positionalRanking']\n",
    "        overallRank =  p['ratings']['0']['totalRanking']\n",
    "    except:\n",
    "        positionRank = None\n",
    "        overallRank = None\n",
    "        \n",
    "    playerData = [season, playerId, playerName, nflTeamId, ktbTeamId, defaultPositionId, #eligibleSlots, \n",
    "              auctionValue, adp, points, pointsAvg, positionRank, overallRank, #stats\n",
    "             ]\n",
    "\n",
    "        \n",
    "    allPlayers.append(playerData)\n",
    "\n",
    "cols = ['season', 'playerId', 'playerName', 'nflTeamId', 'ktbTeamId', 'defaultPositionId', #'eligibleSlots', \n",
    "        'auctionValue', 'adp', 'points', 'pointsAvg', 'positionRank', 'overallRank', #'stats'\n",
    "        ]    \n",
    "players = pd.DataFrame(allPlayers, columns = cols)"
   ]
  },
  {
   "cell_type": "code",
   "execution_count": 161,
   "id": "75c31efb-35a9-4677-b522-85eb2ee9e683",
   "metadata": {
    "jupyter": {
     "source_hidden": true
    }
   },
   "outputs": [],
   "source": [
    "#### MULTIPLE YEARS\n",
    "\n",
    "### kona_player_info\n",
    "# this has player stats, info, scoring for season total and weekly (when searching in season)\n",
    "playerCount = {\n",
    "    0:0, 1:0, 2:0, 3:0, 4:0, 5:0, 6:0, 7:0, 8:0, 9:0, 10:0, 11:0, 12:0\n",
    "}\n",
    "\n",
    "allPlayers = []\n",
    "for y in js.keys():\n",
    "\n",
    "    players = js[y]['kona_player_info']['players']\n",
    "    for p in players:\n",
    "        \n",
    "        #playerCount[p['onTeamId']] += 1\n",
    "        playerId = p['id']\n",
    "        ktbTeamId = p['onTeamId']\n",
    "        nflTeamId = p['player']['proTeamId']\n",
    "        playerName = p['player']['fullName']\n",
    "        defaultPositionId = p['player']['defaultPositionId']\n",
    "        ############# <<<<<<<<<<<<<<<<<<<<<<<<<<<<<<<<<<<<<<<<<< NEED TO FIGURE OUT HOW TO STORE ALL ELIGLBLE POS ID SLOTS\n",
    "        #eligibleSlots = p['player']['eligibleSlots']\n",
    "        try:\n",
    "            auctionValue = p['player']['ownership']['auctionValueAverage']\n",
    "            adp =  p['player']['ownership']['averageDraftPosition']\n",
    "\n",
    "            stats = p['player']['stats']\n",
    "        except:\n",
    "            continue\n",
    "\n",
    "        # they started adding multiple entries to the stats landing, there is final week of the season\n",
    "        # and 2 others I can't figure out what they are. The season long one has an id of '00<year>'\n",
    "        if len(stats) > 1:\n",
    "            #searching for the correct id\n",
    "            for s in stats:\n",
    "                if s['id' ] != '00' + str(y):\n",
    "                    continue\n",
    "                else:\n",
    "                    points = s['appliedTotal']\n",
    "                    pointsAvg = s['appliedAverage']\n",
    "        else:\n",
    "            points = stats[0]['appliedTotal']\n",
    "            pointsAvg = stats[0]['appliedAverage']\n",
    "            \n",
    "        ############# <<<<<<<<<<<<<<<<<<<<<<<<<<<<<<<<<<<<<<<<<< NEED TO SEPARTE THE STATS, FIND ESPN ID TO STAT NAME MAP\n",
    "        #stats = p['player']['stats']['stats']\n",
    "        try:\n",
    "            positionRank =  p['ratings']['0']['positionalRanking']\n",
    "            overallRank =  p['ratings']['0']['totalRanking']\n",
    "        except:\n",
    "            positionRank = None\n",
    "            overallRank = None\n",
    "            \n",
    "        playerData = [y, playerId, playerName, nflTeamId, ktbTeamId, defaultPositionId, #eligibleSlots, \n",
    "                  auctionValue, adp, points, pointsAvg, positionRank, overallRank, #stats\n",
    "                 ]\n",
    "\n",
    "            \n",
    "        allPlayers.append(playerData)\n",
    "\n",
    "cols = ['season', 'playerId', 'playerName', 'nflTeamId', 'ktbTeamId', 'defaultPositionId', #'eligibleSlots', \n",
    "        'auctionValue', 'adp', 'points', 'pointsAvg', 'positionRank', 'overallRank', #'stats'\n",
    "        ]    \n",
    "players = pd.DataFrame(allPlayers, columns = cols)"
   ]
  },
  {
   "cell_type": "markdown",
   "id": "80fd93cb-fb54-43a3-a836-330db42a9759",
   "metadata": {},
   "source": [
    "##### useless endpoints - mSettings, mRoster, player_wl, mSchedule"
   ]
  },
  {
   "cell_type": "code",
   "execution_count": 7,
   "id": "970b4994-f5db-4d0f-9b09-d35d42a12d98",
   "metadata": {
    "jupyter": {
     "source_hidden": true
    }
   },
   "outputs": [],
   "source": [
    "### mSettings:\n",
    "# not much use. league settings including scoring schemes\n",
    "\n",
    "### mRoster:\n",
    "# each teams roster at the end of the season. Not of much use\n",
    "# possible items of interest\n",
    "    # end of season rosters\n",
    "    # season total pts scored for rostered players\n",
    "    # adp for the season of rostered players\n",
    "\n",
    "### player_wl\n",
    "# not much use. very basic team info  for the season - name, nickname, id, guid\n",
    "\n",
    "### mSchedule\n",
    "# no data of interest in league history data dumps"
   ]
  },
  {
   "cell_type": "markdown",
   "id": "bd3ff0b4-0226-48b3-b118-0eb464d835b1",
   "metadata": {},
   "source": [
    "# ADDING TEAMID TO DRAFT DF and DRAFT POSITION TO TEAM DF"
   ]
  },
  {
   "cell_type": "code",
   "execution_count": 124,
   "id": "5a62a2ae-bfbc-4db7-a229-dc0bed00aa95",
   "metadata": {},
   "outputs": [],
   "source": [
    "# joining team id to draft data\n",
    "team = teams[['teamId']].set_index(['teamId'])\n",
    "drafts = drafts.set_index(['teamId'])\n",
    "drafts = drafts.join(team, on= ['teamId'], how='left', validate='many_to_one').reset_index()\n",
    "\n",
    "# adding in missing data\n",
    "drafts.loc[drafts['teamName'] == 'Big Baby Nate', 'teamId'] = 9\n",
    "drafts.loc[drafts['teamName'] ==  \"John's\", 'teamId'] = 1\n",
    "drafts.loc[drafts['teamName'] == 'breeced lightning', 'teamId'] = 12\n",
    "drafts.loc[drafts['teamName'] == \"Chubby Rice\", 'teamId'] = 6\n",
    "drafts.loc[drafts['teamName'] == \"JB got last in 23\", 'teamId'] = 5\n",
    "\n",
    "# populateing current season team Ids, league history isn't available until the end of the season so this will be manual for every season until the LH is saved at the EOS\n",
    "drafts.loc[drafts['teamName'] == \"Chubby Rice\", \"teamId\"] = 6\n",
    "drafts.loc[drafts['teamName'] == \"Big Baby Nate\", \"teamId\"] = 9\n",
    "drafts.loc[drafts['teamName'] == \"John's\", \"teamId\"] = 1\n",
    "drafts.loc[drafts['teamName'] == \"DPD DannyDimes\", \"teamId\"] = 3\n",
    "drafts.loc[drafts['teamName'] == \"JB got last in 23\", \"teamId\"] = 5\n",
    "drafts.loc[drafts['teamName'] == \"CeeDeez Nutz\", \"teamId\"] = 10\n",
    "drafts.loc[drafts['teamName'] == \"Poopstained Warriors\", \"teamId\"] = 4\n",
    "drafts.loc[drafts['teamName'] == \"Team Chaunce\", \"teamId\"] = 7\n",
    "drafts.loc[drafts['teamName'] == \"Team Gomer\", \"teamId\"] = 2\n",
    "drafts.loc[drafts['teamName'] == \"The Suavin Scoregasms\", \"teamId\"] = 11\n",
    "drafts.loc[drafts['teamName'] == \"Touchdown My Pants\", \"teamId\"] = 8\n",
    "drafts.loc[drafts['teamName'] == \"breeced lightning\", \"teamId\"] = 12\n",
    "\n",
    "del team\n",
    "#del drafts['index']"
   ]
  },
  {
   "cell_type": "code",
   "execution_count": null,
   "id": "038b6e80-d654-4887-a785-f7d17324fb5f",
   "metadata": {},
   "outputs": [],
   "source": [
    "# adding draft pick to team data for the season\n",
    "teams.set_index(['teamId'])\n",
    "\n",
    "# filter drafts to only 1st rounds\n",
    "draft = drafts.loc[drafts['round'] == 1, ['pick', 'teamId']]\n",
    "'''\n",
    "#filling in blanks from first season\n",
    "draft.iloc[7, -1] = 't1'\n",
    "draft.iloc[8, -1] = 't2'\n",
    "'''\n",
    "# set index for join\n",
    "#draft = draft.set_index(['teamName', 'season'])\n",
    "draft = draft.set_index(['teamId'])\n",
    "\n",
    "# join draft pick to team data for season\n",
    "teams = teams.join(draft, on= ['teamId'], how='left')\n",
    "\n",
    "'''\n",
    "# adding in draft picks manually for 2022, team names don't align for 5 teams\n",
    "teams.iloc[144, -1] = 4\n",
    "teams.iloc[148, -1] = 7\n",
    "teams.iloc[149, -1] = 10\n",
    "teams.iloc[152, -1] = 12\n",
    "teams.iloc[155, -1] = 5\n",
    "'''\n",
    "del draft\n",
    "\n",
    "# calc final KTB rank, inverse of draft pick\n",
    "pickToFinish = {12:1, 11:2, 10:4, 9:3, 8:5, 7:6, \n",
    "                6:12, 5:11, 4:10, 3:9, 2:8, 1:7}\n",
    "for t in range(1, 13):\n",
    "\n",
    "    #multiple seasons\n",
    "    ###pick = teams.loc[(teams['season'] == s + 1) & (teams['teamId'] == t), 'pick'].iloc[0]\n",
    "    ###teams.loc[(teams['season'] == s) & (teams['teamId'] == t), 'rankFinalKtb'] = pickToFinish[pick]\n",
    "    #single season\n",
    "    pick = teams.loc[teams['teamId'] == t, 'pick'].iloc[0]\n",
    "    teams.loc[teams['teamId'] == t, 'rankFinalKtb'] = pickToFinish[pick]"
   ]
  },
  {
   "cell_type": "markdown",
   "id": "1ff86493-2c93-4362-b76b-eab42a1af699",
   "metadata": {},
   "source": [
    "# OUTPUT TO EXCEL"
   ]
  },
  {
   "cell_type": "code",
   "execution_count": 143,
   "id": "0461eaa5-e1ef-43b6-b4cd-889d62f50230",
   "metadata": {},
   "outputs": [],
   "source": [
    "drafts.to_csv(outputPathDraft, index= False)\n",
    "teams.to_csv(outputPathTeams, index = False)\n",
    "games.to_csv(outputPathGames, index = False)\n",
    "players.to_csv(outputPathPlayers, index = False)"
   ]
  },
  {
   "cell_type": "markdown",
   "id": "04de091a-f4a1-44d1-a2b7-fd533cf6f27b",
   "metadata": {},
   "source": [
    "# LOAD DB"
   ]
  },
  {
   "cell_type": "code",
   "execution_count": 144,
   "id": "718c24f1-339b-4dd2-94dc-b37d8caef9bf",
   "metadata": {},
   "outputs": [],
   "source": [
    "# import credentials\n",
    "dbUser = creds['mysqlSurface']['users'][1]\n",
    "dbPw = creds['mysqlSurface']['creds']['jb']\n",
    "dbHost = creds['mysqlSurface']['dbNFL']['host']\n",
    "dbName = creds['mysqlSurface']['dbNFL']['database']\n",
    "dbConnectionString = creds['pymysql'][league]\n",
    "\n",
    "# connect\n",
    "sqlEngine = create_engine(dbConnectionString, pool_recycle=3600)\n",
    "dbConnection = sqlEngine.connect()"
   ]
  },
  {
   "cell_type": "markdown",
   "id": "314b688e-e245-449b-adf0-f8c91c1eabf7",
   "metadata": {},
   "source": [
    "### TEAMS HISTORY"
   ]
  },
  {
   "cell_type": "code",
   "execution_count": 134,
   "id": "a954c53a-9e0c-4288-a4ab-4a6dc8b66d51",
   "metadata": {},
   "outputs": [
    {
     "data": {
      "text/plain": [
       "12"
      ]
     },
     "execution_count": 134,
     "metadata": {},
     "output_type": "execute_result"
    }
   ],
   "source": [
    "teams.to_sql('ktbteams', dbConnection, if_exists='append', index=False)"
   ]
  },
  {
   "cell_type": "markdown",
   "id": "14b23d9d-ac4d-425d-83b5-1f0f8e9b6686",
   "metadata": {},
   "source": [
    "### DRAFT HISTORY"
   ]
  },
  {
   "cell_type": "code",
   "execution_count": 37,
   "id": "66b5e394-9043-4808-a507-fba231cc7dc0",
   "metadata": {},
   "outputs": [
    {
     "data": {
      "text/plain": [
       "156"
      ]
     },
     "execution_count": 37,
     "metadata": {},
     "output_type": "execute_result"
    }
   ],
   "source": [
    "drafts.to_sql('ktbdrafts', dbConnection, if_exists='append', index=False)"
   ]
  },
  {
   "cell_type": "markdown",
   "id": "818dd520-dd4b-46ab-b48d-2166f3aa2132",
   "metadata": {},
   "source": [
    "### PLAYER HISTORY"
   ]
  },
  {
   "cell_type": "code",
   "execution_count": 145,
   "id": "2374fa05-9d88-4774-bed6-3923fd9fc03c",
   "metadata": {},
   "outputs": [
    {
     "data": {
      "text/plain": [
       "2667"
      ]
     },
     "execution_count": 145,
     "metadata": {},
     "output_type": "execute_result"
    }
   ],
   "source": [
    "players.to_sql('ktbplayers', dbConnection, if_exists='append', index=False)"
   ]
  },
  {
   "cell_type": "markdown",
   "id": "b3aebe1c-a0e7-43be-b91b-8df940149a67",
   "metadata": {},
   "source": [
    "### GAMES HISTORY"
   ]
  },
  {
   "cell_type": "code",
   "execution_count": 136,
   "id": "d5a7cf0e-cb03-401d-8172-c0a1a2c079df",
   "metadata": {},
   "outputs": [
    {
     "data": {
      "text/plain": [
       "103"
      ]
     },
     "execution_count": 136,
     "metadata": {},
     "output_type": "execute_result"
    }
   ],
   "source": [
    "games.to_sql('ktbgames', dbConnection, if_exists='append', index=False)"
   ]
  },
  {
   "cell_type": "code",
   "execution_count": 182,
   "id": "1062e699-9bbe-4863-b659-3532d3dea47c",
   "metadata": {},
   "outputs": [],
   "source": [
    "dbConnection.close()"
   ]
  },
  {
   "cell_type": "code",
   "execution_count": null,
   "id": "a535d683-784c-435d-9767-999cb3a47e12",
   "metadata": {},
   "outputs": [],
   "source": []
  }
 ],
 "metadata": {
  "kernelspec": {
   "display_name": "fantasyfootball",
   "language": "python",
   "name": "python3"
  },
  "language_info": {
   "codemirror_mode": {
    "name": "ipython",
    "version": 3
   },
   "file_extension": ".py",
   "mimetype": "text/x-python",
   "name": "python",
   "nbconvert_exporter": "python",
   "pygments_lexer": "ipython3",
   "version": "3.13.6"
  }
 },
 "nbformat": 4,
 "nbformat_minor": 5
}
