{
 "cells": [
  {
   "cell_type": "code",
   "execution_count": 1,
   "metadata": {},
   "outputs": [],
   "source": [
    "import pandas as pd\n",
    "##### importing custom modules from the projects folder\n",
    "import sys\n",
    "from pathlib import Path\n",
    "# Add project root to sys.path\n",
    "PROJECT_ROOT = Path.cwd().parent if Path.cwd().name == \"notebooks\" else Path.cwd()\n",
    "sys.path.append(str(PROJECT_ROOT))\n",
    "import modules.scrapers as scrapers\n",
    "import modules.helperModule as hf\n",
    "import modules.ktbFantasyFootball as ktb\n",
    "##### -------------------------------------------------\n"
   ]
  },
  {
   "cell_type": "markdown",
   "metadata": {},
   "source": [
    "add dict to json"
   ]
  },
  {
   "cell_type": "code",
   "execution_count": null,
   "metadata": {},
   "outputs": [],
   "source": [
    "import json\n",
    "# List of dictionaries you want to add\n",
    "data_to_add = [\n",
    "    hf.map_team_ids_to_name,\n",
    "    hf.lineupSlotID,\n",
    "    hf.espn_urls,\n",
    "    hf.team_map,\n",
    "    hf.team_mascot_map,\n",
    "    hf.team_map_abbrevs,\n",
    "    hf.team_map_ids,\n",
    "    hf.team_map_nfldatapy_to_db,\n",
    "    hf.team_map_nfldatapy_to_dbTid,\n",
    "    hf.map_projInput_to_projOut\n",
    "]\n",
    "\n",
    "json_data = {\n",
    "    'map_team_ids_to_name':data_to_add[0],\n",
    "    'lineupSlotID':data_to_add[1],\n",
    "    'espn_urls':data_to_add[2],\n",
    "    'team_map':data_to_add[3],\n",
    "    'team_mascot_map':data_to_add[4],\n",
    "    'team_map_abbrevs':data_to_add[5],\n",
    "    'team_map_ids':data_to_add[6],\n",
    "    'team_map_nfldatapy_to_db':data_to_add[7],\n",
    "    'team_map_nfldatapy_to_dbTid':data_to_add[8],\n",
    "    'map_projInput_to_projOut':data_to_add[9],\n",
    "}\n",
    "\n",
    "# Path to your JSON file\n",
    "file_path = str(hf.DATA_DIR) + '/json/mapping_dicts.json'\n",
    "\n",
    "# Create the file and write the data\n",
    "with open(file_path, 'w') as f:\n",
    "    json.dump(json_data, f, indent=4)"
   ]
  },
  {
   "cell_type": "markdown",
   "metadata": {},
   "source": [
    "scratch"
   ]
  },
  {
   "cell_type": "code",
   "execution_count": null,
   "metadata": {},
   "outputs": [],
   "source": []
  },
  {
   "cell_type": "code",
   "execution_count": null,
   "metadata": {},
   "outputs": [],
   "source": [
    "\n",
    "ktb_getter = ktb.ktb(\n",
    "    database_export = True, \n",
    "    store_locally=True, \n",
    ")"
   ]
  },
  {
   "cell_type": "code",
   "execution_count": null,
   "metadata": {},
   "outputs": [
    {
     "name": "stdout",
     "output_type": "stream",
     "text": [
      "successfully added data\n"
     ]
    }
   ],
   "source": [
    "df = ktb_getter.get_league_history(2024,            \n",
    "        endpoints = ['mTeam','mBoxscore', 'mRoster','mSettings','kona_player_info','player_wl','mSchedule'],\n",
    "        save_json = False,\n",
    "        process_json_to_df = True,\n",
    "        database_table_teams = 'ktbteams'\n",
    "    )   "
   ]
  },
  {
   "cell_type": "code",
   "execution_count": 46,
   "metadata": {},
   "outputs": [],
   "source": [
    "a = pd.read_sql_query(\n",
    "    sql ='SELECT teamId, pick FROM ktbdrafts WHERE season = %s and round = 1',\n",
    "    con = ktb_getter.pymysql_conn_str,\n",
    "    params= (2024,)\n",
    ")"
   ]
  },
  {
   "cell_type": "code",
   "execution_count": null,
   "metadata": {},
   "outputs": [],
   "source": [
    "dict(zip(a['teamId'], a['pick']))"
   ]
  },
  {
   "cell_type": "code",
   "execution_count": null,
   "metadata": {},
   "outputs": [
    {
     "data": {
      "text/plain": [
       "{'ATL': 1,\n",
       " 'BUF': 2,\n",
       " 'CHI': 3,\n",
       " 'CIN': 4,\n",
       " 'CLE': 5,\n",
       " 'DAL': 6,\n",
       " 'DEN': 7,\n",
       " 'DET': 8,\n",
       " 'GB': 9,\n",
       " 'TEN': 10,\n",
       " 'IND': 11,\n",
       " 'KC': 12,\n",
       " 'LV': 13,\n",
       " 'LA': 14,\n",
       " 'MIA': 15,\n",
       " 'MIN': 16,\n",
       " 'NE': 17,\n",
       " 'NO': 18,\n",
       " 'NYG': 19,\n",
       " 'NYJ': 20,\n",
       " 'PHI': 21,\n",
       " 'ARI': 22,\n",
       " 'PIT': 23,\n",
       " 'LAC': 24,\n",
       " 'SF': 25,\n",
       " 'SEA': 26,\n",
       " 'TB': 27,\n",
       " 'WAS': 28,\n",
       " 'CAR': 29,\n",
       " 'JAX': 30,\n",
       " 'BAL': 31,\n",
       " 'HOU': 32,\n",
       " 'FA': 33,\n",
       " 'SL': 34,\n",
       " 'SD': 35,\n",
       " 'OAK': 36}"
      ]
     },
     "execution_count": 40,
     "metadata": {},
     "output_type": "execute_result"
    }
   ],
   "source": [
    "scraper."
   ]
  },
  {
   "cell_type": "code",
   "execution_count": null,
   "metadata": {},
   "outputs": [],
   "source": []
  },
  {
   "cell_type": "code",
   "execution_count": 3,
   "metadata": {},
   "outputs": [],
   "source": [
    "from selenium.webdriver.common.by import By\n",
    "#from selenium.webdriver.common.keys import Keys\n",
    "from selenium.webdriver.support.wait import WebDriverWait\n",
    "import requests, time, re\n",
    "#import sqlalchemy as sal\n",
    "#from sqlalchemy import create_engine\n",
    "import pandas as pd\n",
    "pd.set_option('display.max_columns', 500)\n",
    "import numpy as np\n",
    "from bs4 import BeautifulSoup as bs\n",
    "from datetime import date\n",
    "from io import StringIO\n",
    "##### importing custom modules from the projects folder\n",
    "import sys\n",
    "from pathlib import Path\n",
    "# Add project root to sys.path\n",
    "PROJECT_ROOT = Path.cwd().parent if Path.cwd().name == \"notebooks\" else Path.cwd()\n",
    "sys.path.append(str(PROJECT_ROOT))\n",
    "import modules.scrapers as scrapers\n",
    "import modules.helperModule as hf\n",
    "##### -------------------------------------------------"
   ]
  },
  {
   "cell_type": "code",
   "execution_count": 5,
   "metadata": {},
   "outputs": [],
   "source": [
    "url_rankings = {\n",
    "    \"QB\":\"https://www.espn.com/fantasy/football/story/_/page/FFPreseasonRank25QBPPR/nfl-fantasy-football-draft-rankings-2025-qb-quarterback\",\n",
    "    \"RB\":\"https://www.espn.com/fantasy/football/story/_/page/FFPreseasonRank25RBPPR/nfl-fantasy-football-draft-rankings-2025-rb-running-back-ppr\",\n",
    "    \"WR\":\"https://www.espn.com/fantasy/football/story/_/page/FFPreseasonRank25WRPPR/nfl-fantasy-football-draft-rankings-2025-wr-wide-receiver-ppr\",\n",
    "    \"TE\":\"https://www.espn.com/fantasy/football/story/_/page/FFPreseasonRank25TEPPR/nfl-fantasy-football-draft-rankings-2025-te-tight-end-ppr\",\n",
    "    \"K\":\"https://www.espn.com/fantasy/football/story/_/page/FFPreseasonRank25KPPR/nfl-fantasy-football-draft-rankings-2025-kicker-k\",\n",
    "    \"DST\":\"https://www.espn.com/fantasy/football/story/_/page/FFPreseasonRank25DSTPPR/nfl-fantasy-football-draft-rankings-2025-dst-defense\",\n",
    "    \"IDP\":\"https://www.espn.com/fantasy/football/story/_/page/FFPreseasonRank25IDP/2025-fantasy-football-rankings-idp-defense-defensive-line-linebacker-defensive-back\",\n",
    "}\n",
    "driver = hf.open_browser()"
   ]
  },
  {
   "cell_type": "code",
   "execution_count": 6,
   "metadata": {},
   "outputs": [],
   "source": [
    "driver.get(url_rankings['QB'])"
   ]
  },
  {
   "cell_type": "code",
   "execution_count": 7,
   "metadata": {},
   "outputs": [],
   "source": [
    "html = driver.execute_script(\"return document.body.innerHTML\")\n",
    "soup = bs(html, features='lxml')"
   ]
  },
  {
   "cell_type": "code",
   "execution_count": null,
   "metadata": {},
   "outputs": [],
   "source": [
    "ranking_table = soup.find(\"table\", class_=\"inline-table rankings-table fullWidth sortable\")"
   ]
  },
  {
   "cell_type": "code",
   "execution_count": 20,
   "metadata": {},
   "outputs": [],
   "source": [
    "# retrieves the expert names and the order they are listed\n",
    "expert_names_html = ranking_table.find(\"thead\").find_all(\"th\")\n",
    "expert_names = []\n",
    "for tr in range(2, len(expert_names_html)):\n",
    "    expert_names.append(expert_names_html[tr].text)\n",
    "\n",
    "player_ranks_html = ranking_table.find(\"tbody\").find_all(\"tr\")#, class_=\"\")"
   ]
  },
  {
   "cell_type": "code",
   "execution_count": 21,
   "metadata": {},
   "outputs": [],
   "source": [
    "group = 'QB'\n",
    "player_ranks = []"
   ]
  },
  {
   "cell_type": "code",
   "execution_count": 22,
   "metadata": {},
   "outputs": [
    {
     "data": {
      "text/plain": [
       "[<tr><td class=\"tal\" style=\"background-position:0 7em\"><div class=\"rank\">1<!-- -->. <a data-player-id=\"3916387\" href=\"http://www.espn.com/nfl/player/_/id/3916387/lamar-jackson\">Lamar Jackson</a>, <!-- -->Bal</div></td><td class=\"\"></td><td class=\"\"><span>1</span></td><td class=\"\"><span>2</span></td><td class=\"\"><span>1</span></td><td class=\"\"><span>1</span></td><td class=\"\"><span>2</span></td><td class=\"\"><span>1</span></td><td class=\"\"><span>2</span></td><td class=\"\"><span>1</span></td><td class=\"\"><span>1.4</span></td></tr>,\n",
       " <tr><td class=\"tal\" style=\"background-position:0 7em\"><div class=\"rank\">2<!-- -->. <a data-player-id=\"3918298\" href=\"http://www.espn.com/nfl/player/_/id/3918298/josh-allen\">Josh Allen</a>, <!-- -->Buf</div></td><td class=\"\"></td><td class=\"\"><span>2</span></td><td class=\"\"><span>1</span></td><td class=\"\"><span>2</span></td><td class=\"\"><span>2</span></td><td class=\"\"><span>1</span></td><td class=\"\"><span>2</span></td><td class=\"\"><span>1</span></td><td class=\"\"><span>4</span></td><td class=\"\"><span>1.9</span></td></tr>,\n",
       " <tr><td class=\"tal\" style=\"background-position:0 7em\"><div class=\"rank\">3<!-- -->. <a data-player-id=\"4426348\" href=\"http://www.espn.com/nfl/player/_/id/4426348/jayden-daniels\">Jayden Daniels</a>, <!-- -->Wsh</div></td><td class=\"\"></td><td class=\"\"><span>3</span></td><td class=\"\"><span>3</span></td><td class=\"\"><span>3</span></td><td class=\"\"><span>3</span></td><td class=\"\"><span>3</span></td><td class=\"\"><span>4</span></td><td class=\"\"><span>3</span></td><td class=\"\"><span>2</span></td><td class=\"\"><span>3.0</span></td></tr>,\n",
       " <tr><td class=\"tal\" style=\"background-position:0 7em\"><div class=\"rank\">4<!-- -->. <a data-player-id=\"4040715\" href=\"http://www.espn.com/nfl/player/_/id/4040715/jalen-hurts\">Jalen Hurts</a>, <!-- -->Phi</div></td><td class=\"\"></td><td class=\"\"><span>4</span></td><td class=\"\"><span>4</span></td><td class=\"\"><span>5</span></td><td class=\"\"><span>4</span></td><td class=\"\"><span>4</span></td><td class=\"\"><span>3</span></td><td class=\"\"><span>4</span></td><td class=\"\"><span>3</span></td><td class=\"\"><span>3.9</span></td></tr>,\n",
       " <tr><td class=\"tal\" style=\"background-position:0 7em\"><div class=\"rank\">5<!-- -->. <a data-player-id=\"3915511\" href=\"http://www.espn.com/nfl/player/_/id/3915511/joe-burrow\">Joe Burrow</a>, <!-- -->Cin</div></td><td class=\"\"></td><td class=\"\"><span>5</span></td><td class=\"\"><span>5</span></td><td class=\"\"><span>4</span></td><td class=\"\"><span>5</span></td><td class=\"\"><span>5</span></td><td class=\"\"><span>5</span></td><td class=\"\"><span>5</span></td><td class=\"\"><span>5</span></td><td class=\"\"><span>4.9</span></td></tr>,\n",
       " <tr><td class=\"tal\" style=\"background-position:0 7em\"><div class=\"rank\">6<!-- -->. <a data-player-id=\"3139477\" href=\"http://www.espn.com/nfl/player/_/id/3139477/patrick-mahomes\">Patrick Mahomes</a>, <!-- -->KC</div></td><td class=\"\"></td><td class=\"\"><span>6</span></td><td class=\"\"><span>6</span></td><td class=\"\"><span>6</span></td><td class=\"\"><span>8</span></td><td class=\"\"><span>6</span></td><td class=\"\"><span>6</span></td><td class=\"\"><span>6</span></td><td class=\"\"><span>8</span></td><td class=\"\"><span>6.5</span></td></tr>,\n",
       " <tr><td class=\"tal\" style=\"background-position:0 7em\"><div class=\"rank\">7<!-- -->. <a data-player-id=\"4426338\" href=\"http://www.espn.com/nfl/player/_/id/4426338/bo-nix\">Bo Nix</a>, <!-- -->Den</div></td><td class=\"\"></td><td class=\"\"><span>7</span></td><td class=\"\"><span>8</span></td><td class=\"\"><span>8</span></td><td class=\"\"><span>6</span></td><td class=\"\"><span>10</span></td><td class=\"\"><span>8</span></td><td class=\"\"><span>7</span></td><td class=\"\"><span>7</span></td><td class=\"\"><span>7.6</span></td></tr>,\n",
       " <tr><td class=\"tal\" style=\"background-position:0 7em\"><div class=\"rank\">8<!-- -->. <a data-player-id=\"3052587\" href=\"http://www.espn.com/nfl/player/_/id/3052587/baker-mayfield\">Baker Mayfield</a>, <!-- -->TB</div></td><td class=\"\"></td><td class=\"\"><span>8</span></td><td class=\"\"><span>7</span></td><td class=\"\"><span>7</span></td><td class=\"\"><span>9</span></td><td class=\"\"><span>7</span></td><td class=\"\"><span>9</span></td><td class=\"\"><span>9</span></td><td class=\"\"><span>6</span></td><td class=\"\"><span>7.8</span></td></tr>,\n",
       " <tr><td class=\"tal\" style=\"background-position:0 7em\"><div class=\"rank\">9<!-- -->. <a data-player-id=\"3917315\" href=\"http://www.espn.com/nfl/player/_/id/3917315/kyler-murray\">Kyler Murray</a>, <!-- -->Ari</div></td><td class=\"\"></td><td class=\"\"><span>9</span></td><td class=\"\"><span>9</span></td><td class=\"\"><span>9</span></td><td class=\"\"><span>7</span></td><td class=\"\"><span>9</span></td><td class=\"\"><span>7</span></td><td class=\"\"><span>11</span></td><td class=\"\"><span>10</span></td><td class=\"\"><span>8.9</span></td></tr>,\n",
       " <tr><td class=\"tal\" style=\"background-position:0 7em\"><div class=\"rank\">10<!-- -->. <a data-player-id=\"4361741\" href=\"http://www.espn.com/nfl/player/_/id/4361741/brock-purdy\">Brock Purdy</a>, <!-- -->SF</div></td><td class=\"\"></td><td class=\"\"><span>10</span></td><td class=\"\"><span>10</span></td><td class=\"\"><span>10</span></td><td class=\"\"><span>10</span></td><td class=\"\"><span>8</span></td><td class=\"\"><span>10</span></td><td class=\"\"><span>8</span></td><td class=\"\"><span>9</span></td><td class=\"\"><span>9.4</span></td></tr>,\n",
       " <tr><td class=\"tal\" style=\"background-position:0 7em\"><div class=\"rank\">11<!-- -->. <a data-player-id=\"4038941\" href=\"http://www.espn.com/nfl/player/_/id/4038941/justin-herbert\">Justin Herbert</a>, <!-- -->LAC</div></td><td class=\"\"></td><td class=\"\"><span>11</span></td><td class=\"\"><span>11</span></td><td class=\"\"><span>13</span></td><td class=\"\"><span>13</span></td><td class=\"\"><span>12</span></td><td class=\"\"><span>11</span></td><td class=\"\"><span>14</span></td><td class=\"\"><span>13</span></td><td class=\"\"><span>12.3</span></td></tr>,\n",
       " <tr><td class=\"tal\" style=\"background-position:0 7em\"><div class=\"rank\">12<!-- -->. <a data-player-id=\"4431611\" href=\"http://www.espn.com/nfl/player/_/id/4431611/caleb-williams\">Caleb Williams</a>, <!-- -->Chi</div></td><td class=\"\"></td><td class=\"\"><span>12</span></td><td class=\"\"><span>12</span></td><td class=\"\"><span>12</span></td><td class=\"\"><span>14</span></td><td class=\"\"><span>11</span></td><td class=\"\"><span>12</span></td><td class=\"\"><span>15</span></td><td class=\"\"><span>12</span></td><td class=\"\"><span>12.5</span></td></tr>,\n",
       " <tr><td class=\"tal\" style=\"background-position:0 7em\"><div class=\"rank\">13<!-- -->. <a data-player-id=\"2577417\" href=\"http://www.espn.com/nfl/player/_/id/2577417/dak-prescott\">Dak Prescott</a>, <!-- -->Dal</div></td><td class=\"\"></td><td class=\"\"><span>15</span></td><td class=\"\"><span>13</span></td><td class=\"\"><span>11</span></td><td class=\"\"><span>11</span></td><td class=\"\"><span>15</span></td><td class=\"\"><span>13</span></td><td class=\"\"><span>12</span></td><td class=\"\"><span>11</span></td><td class=\"\"><span>12.6</span></td></tr>,\n",
       " <tr><td class=\"tal\" style=\"background-position:0 7em\"><div class=\"rank\">14<!-- -->. <a data-player-id=\"4362887\" href=\"http://www.espn.com/nfl/player/_/id/4362887/justin-fields\">Justin Fields</a>, <!-- -->NYJ</div></td><td class=\"\"></td><td class=\"\"><span>13</span></td><td class=\"\"><span>14</span></td><td class=\"\"><span>15</span></td><td class=\"\"><span>12</span></td><td class=\"\"><span>13</span></td><td class=\"\"><span>14</span></td><td class=\"\"><span>13</span></td><td class=\"\"><span>15</span></td><td class=\"\"><span>13.6</span></td></tr>,\n",
       " <tr><td class=\"tal\" style=\"background-position:0 7em\"><div class=\"rank\">15<!-- -->. <a data-player-id=\"4431452\" href=\"http://www.espn.com/nfl/player/_/id/4431452/drake-maye\">Drake Maye</a>, <!-- -->NE</div></td><td class=\"\"></td><td class=\"\"><span>14</span></td><td class=\"\"><span>15</span></td><td class=\"\"><span>16</span></td><td class=\"\"><span>16</span></td><td class=\"\"><span>14</span></td><td class=\"\"><span>15</span></td><td class=\"\"><span>10</span></td><td class=\"\"><span>14</span></td><td class=\"\"><span>14.3</span></td></tr>,\n",
       " <tr><td class=\"tal\" style=\"background-position:0 7em\"><div class=\"rank\">16<!-- -->. <a data-player-id=\"3046779\" href=\"http://www.espn.com/nfl/player/_/id/3046779/jared-goff\">Jared Goff</a>, <!-- -->Det</div></td><td class=\"\"></td><td class=\"\"><span>17</span></td><td class=\"\"><span>17</span></td><td class=\"\"><span>14</span></td><td class=\"\"><span>15</span></td><td class=\"\"><span>16</span></td><td class=\"\"><span>17</span></td><td class=\"\"><span>19</span></td><td class=\"\"><span>16</span></td><td class=\"\"><span>16.4</span></td></tr>,\n",
       " <tr><td class=\"tal\" style=\"background-position:0 7em\"><div class=\"rank\">17<!-- -->. <a data-player-id=\"4036378\" href=\"http://www.espn.com/nfl/player/_/id/4036378/jordan-love\">Jordan Love</a>, <!-- -->GB<span style=\"color:red;font-weight:bold;padding-left:10px\" title=\"Questionable\">Q</span></div></td><td class=\"\"></td><td class=\"\"><span>16</span></td><td class=\"\"><span>16</span></td><td class=\"\"><span>17</span></td><td class=\"\"><span>18</span></td><td class=\"\"><span>22</span></td><td class=\"\"><span>16</span></td><td class=\"\"><span>16</span></td><td class=\"\"><span>17</span></td><td class=\"\"><span>17.3</span></td></tr>,\n",
       " <tr><td class=\"tal\" style=\"background-position:0 7em\"><div class=\"rank\">18<!-- -->. <a data-player-id=\"4433970\" href=\"http://www.espn.com/nfl/player/_/id/4433970/j.j.-mccarthy\">J.J. McCarthy</a>, <!-- -->Min</div></td><td class=\"\"></td><td class=\"\"><span>21</span></td><td class=\"\"><span>18</span></td><td class=\"\"><span>19</span></td><td class=\"\"><span>19</span></td><td class=\"\"><span>17</span></td><td class=\"\"><span>20</span></td><td class=\"\"><span>18</span></td><td class=\"\"><span>18</span></td><td class=\"\"><span>18.8</span></td></tr>,\n",
       " <tr><td class=\"tal\" style=\"background-position:0 7em\"><div class=\"rank\">19<!-- -->. <a data-player-id=\"4432577\" href=\"http://www.espn.com/nfl/player/_/id/4432577/c.j.-stroud\">C.J. Stroud</a>, <!-- -->Hou</div></td><td class=\"\"></td><td class=\"\"><span>18</span></td><td class=\"\"><span>21</span></td><td class=\"\"><span>18</span></td><td class=\"\"><span>17</span></td><td class=\"\"><span>19</span></td><td class=\"\"><span>19</span></td><td class=\"\"><span>20</span></td><td class=\"\"><span>21</span></td><td class=\"\"><span>19.1</span></td></tr>,\n",
       " <tr><td class=\"tal\" style=\"background-position:0 7em\"><div class=\"rank\">20<!-- -->. <a data-player-id=\"4360310\" href=\"http://www.espn.com/nfl/player/_/id/4360310/trevor-lawrence\">Trevor Lawrence</a>, <!-- -->Jax</div></td><td class=\"\"></td><td class=\"\"><span>20</span></td><td class=\"\"><span>22</span></td><td class=\"\"><span>21</span></td><td class=\"\"><span>20</span></td><td class=\"\"><span>21</span></td><td class=\"\"><span>18</span></td><td class=\"\"><span>17</span></td><td class=\"\"><span>19</span></td><td class=\"\"><span>19.8</span></td></tr>,\n",
       " <tr><td class=\"tal\" style=\"background-position:0 7em\"><div class=\"rank\">21<!-- -->. <a data-player-id=\"4241479\" href=\"http://www.espn.com/nfl/player/_/id/4241479/tua-tagovailoa\">Tua Tagovailoa</a>, <!-- -->Mia</div></td><td class=\"\"></td><td class=\"\"><span>19</span></td><td class=\"\"><span>19</span></td><td class=\"\"><span>20</span></td><td class=\"\"><span>21</span></td><td class=\"\"><span>20</span></td><td class=\"\"><span>21</span></td><td class=\"\"><span>24</span></td><td class=\"\"><span>23</span></td><td class=\"\"><span>20.9</span></td></tr>,\n",
       " <tr><td class=\"tal\" style=\"background-position:0 7em\"><div class=\"rank\">22<!-- -->. <a data-player-id=\"12483\" href=\"http://www.espn.com/nfl/player/_/id/12483/matthew-stafford\">Matthew Stafford</a>, <!-- -->LAR<span style=\"color:red;font-weight:bold;padding-left:10px\" title=\"Questionable\">Q</span></div></td><td class=\"\"></td><td class=\"\"><span>23</span></td><td class=\"\"><span>20</span></td><td class=\"\"><span>23</span></td><td class=\"\"><span>22</span></td><td class=\"\"><span>18</span></td><td class=\"\"><span>22</span></td><td class=\"\"><span>23</span></td><td class=\"\"><span>22</span></td><td class=\"\"><span>21.6</span></td></tr>,\n",
       " <tr><td class=\"tal\" style=\"background-position:0 7em\"><div class=\"rank\">23<!-- -->. <a data-player-id=\"4688380\" href=\"http://www.espn.com/nfl/player/_/id/4688380/cam-ward\">Cam Ward</a>, <!-- -->Ten</div></td><td class=\"\"></td><td class=\"\"><span>22</span></td><td class=\"\"><span>23</span></td><td class=\"\"><span>25</span></td><td class=\"\"><span>23</span></td><td class=\"\"><span>25</span></td><td class=\"\"><span>24</span></td><td class=\"\"><span>NR</span></td><td class=\"\"><span>20</span></td><td class=\"\"><span>23.5</span></td></tr>,\n",
       " <tr><td class=\"tal\" style=\"background-position:0 7em\"><div class=\"rank\">24<!-- -->. <a data-player-id=\"4360423\" href=\"http://www.espn.com/nfl/player/_/id/4360423/michael-penix jr.\">Michael Penix Jr.</a>, <!-- -->Atl</div></td><td class=\"\"></td><td class=\"\"><span>24</span></td><td class=\"\"><span>24</span></td><td class=\"\"><span>24</span></td><td class=\"\"><span>25</span></td><td class=\"\"><span>23</span></td><td class=\"\"><span>23</span></td><td class=\"\"><span>25</span></td><td class=\"\"><span>NR</span></td><td class=\"\"><span>24.3</span></td></tr>,\n",
       " <tr><td class=\"tal\" style=\"background-position:0 7em\"><div class=\"rank\">25<!-- -->. <a data-player-id=\"4685720\" href=\"http://www.espn.com/nfl/player/_/id/4685720/bryce-young\">Bryce Young</a>, <!-- -->Car</div></td><td class=\"\"></td><td class=\"\"><span>NR</span></td><td class=\"\"><span>25</span></td><td class=\"\"><span>22</span></td><td class=\"\"><span>NR</span></td><td class=\"\"><span>24</span></td><td class=\"\"><span>NR</span></td><td class=\"\"><span>22</span></td><td class=\"\"><span>25</span></td><td class=\"\"><span>24.5</span></td></tr>]"
      ]
     },
     "execution_count": 22,
     "metadata": {},
     "output_type": "execute_result"
    }
   ],
   "source": [
    "player_ranks_html"
   ]
  },
  {
   "cell_type": "code",
   "execution_count": 23,
   "metadata": {},
   "outputs": [
    {
     "name": "stdout",
     "output_type": "stream",
     "text": [
      "[<td class=\"tal\" style=\"background-position:0 7em\"><div class=\"rank\">1<!-- -->. <a data-player-id=\"3916387\" href=\"http://www.espn.com/nfl/player/_/id/3916387/lamar-jackson\">Lamar Jackson</a>, <!-- -->Bal</div></td>, <td class=\"\"></td>, <td class=\"\"><span>1</span></td>, <td class=\"\"><span>2</span></td>, <td class=\"\"><span>1</span></td>, <td class=\"\"><span>1</span></td>, <td class=\"\"><span>2</span></td>, <td class=\"\"><span>1</span></td>, <td class=\"\"><span>2</span></td>, <td class=\"\"><span>1</span></td>, <td class=\"\"><span>1.4</span></td>]\n",
      "Lamar Jackson\n",
      "[<td class=\"tal\" style=\"background-position:0 7em\"><div class=\"rank\">2<!-- -->. <a data-player-id=\"3918298\" href=\"http://www.espn.com/nfl/player/_/id/3918298/josh-allen\">Josh Allen</a>, <!-- -->Buf</div></td>, <td class=\"\"></td>, <td class=\"\"><span>2</span></td>, <td class=\"\"><span>1</span></td>, <td class=\"\"><span>2</span></td>, <td class=\"\"><span>2</span></td>, <td class=\"\"><span>1</span></td>, <td class=\"\"><span>2</span></td>, <td class=\"\"><span>1</span></td>, <td class=\"\"><span>4</span></td>, <td class=\"\"><span>1.9</span></td>]\n",
      "Josh Allen\n",
      "[<td class=\"tal\" style=\"background-position:0 7em\"><div class=\"rank\">3<!-- -->. <a data-player-id=\"4426348\" href=\"http://www.espn.com/nfl/player/_/id/4426348/jayden-daniels\">Jayden Daniels</a>, <!-- -->Wsh</div></td>, <td class=\"\"></td>, <td class=\"\"><span>3</span></td>, <td class=\"\"><span>3</span></td>, <td class=\"\"><span>3</span></td>, <td class=\"\"><span>3</span></td>, <td class=\"\"><span>3</span></td>, <td class=\"\"><span>4</span></td>, <td class=\"\"><span>3</span></td>, <td class=\"\"><span>2</span></td>, <td class=\"\"><span>3.0</span></td>]\n",
      "Jayden Daniels\n",
      "[<td class=\"tal\" style=\"background-position:0 7em\"><div class=\"rank\">4<!-- -->. <a data-player-id=\"4040715\" href=\"http://www.espn.com/nfl/player/_/id/4040715/jalen-hurts\">Jalen Hurts</a>, <!-- -->Phi</div></td>, <td class=\"\"></td>, <td class=\"\"><span>4</span></td>, <td class=\"\"><span>4</span></td>, <td class=\"\"><span>5</span></td>, <td class=\"\"><span>4</span></td>, <td class=\"\"><span>4</span></td>, <td class=\"\"><span>3</span></td>, <td class=\"\"><span>4</span></td>, <td class=\"\"><span>3</span></td>, <td class=\"\"><span>3.9</span></td>]\n",
      "Jalen Hurts\n",
      "[<td class=\"tal\" style=\"background-position:0 7em\"><div class=\"rank\">5<!-- -->. <a data-player-id=\"3915511\" href=\"http://www.espn.com/nfl/player/_/id/3915511/joe-burrow\">Joe Burrow</a>, <!-- -->Cin</div></td>, <td class=\"\"></td>, <td class=\"\"><span>5</span></td>, <td class=\"\"><span>5</span></td>, <td class=\"\"><span>4</span></td>, <td class=\"\"><span>5</span></td>, <td class=\"\"><span>5</span></td>, <td class=\"\"><span>5</span></td>, <td class=\"\"><span>5</span></td>, <td class=\"\"><span>5</span></td>, <td class=\"\"><span>4.9</span></td>]\n",
      "Joe Burrow\n",
      "[<td class=\"tal\" style=\"background-position:0 7em\"><div class=\"rank\">6<!-- -->. <a data-player-id=\"3139477\" href=\"http://www.espn.com/nfl/player/_/id/3139477/patrick-mahomes\">Patrick Mahomes</a>, <!-- -->KC</div></td>, <td class=\"\"></td>, <td class=\"\"><span>6</span></td>, <td class=\"\"><span>6</span></td>, <td class=\"\"><span>6</span></td>, <td class=\"\"><span>8</span></td>, <td class=\"\"><span>6</span></td>, <td class=\"\"><span>6</span></td>, <td class=\"\"><span>6</span></td>, <td class=\"\"><span>8</span></td>, <td class=\"\"><span>6.5</span></td>]\n",
      "Patrick Mahomes\n",
      "[<td class=\"tal\" style=\"background-position:0 7em\"><div class=\"rank\">7<!-- -->. <a data-player-id=\"4426338\" href=\"http://www.espn.com/nfl/player/_/id/4426338/bo-nix\">Bo Nix</a>, <!-- -->Den</div></td>, <td class=\"\"></td>, <td class=\"\"><span>7</span></td>, <td class=\"\"><span>8</span></td>, <td class=\"\"><span>8</span></td>, <td class=\"\"><span>6</span></td>, <td class=\"\"><span>10</span></td>, <td class=\"\"><span>8</span></td>, <td class=\"\"><span>7</span></td>, <td class=\"\"><span>7</span></td>, <td class=\"\"><span>7.6</span></td>]\n",
      "Bo Nix\n",
      "[<td class=\"tal\" style=\"background-position:0 7em\"><div class=\"rank\">8<!-- -->. <a data-player-id=\"3052587\" href=\"http://www.espn.com/nfl/player/_/id/3052587/baker-mayfield\">Baker Mayfield</a>, <!-- -->TB</div></td>, <td class=\"\"></td>, <td class=\"\"><span>8</span></td>, <td class=\"\"><span>7</span></td>, <td class=\"\"><span>7</span></td>, <td class=\"\"><span>9</span></td>, <td class=\"\"><span>7</span></td>, <td class=\"\"><span>9</span></td>, <td class=\"\"><span>9</span></td>, <td class=\"\"><span>6</span></td>, <td class=\"\"><span>7.8</span></td>]\n",
      "Baker Mayfield\n",
      "[<td class=\"tal\" style=\"background-position:0 7em\"><div class=\"rank\">9<!-- -->. <a data-player-id=\"3917315\" href=\"http://www.espn.com/nfl/player/_/id/3917315/kyler-murray\">Kyler Murray</a>, <!-- -->Ari</div></td>, <td class=\"\"></td>, <td class=\"\"><span>9</span></td>, <td class=\"\"><span>9</span></td>, <td class=\"\"><span>9</span></td>, <td class=\"\"><span>7</span></td>, <td class=\"\"><span>9</span></td>, <td class=\"\"><span>7</span></td>, <td class=\"\"><span>11</span></td>, <td class=\"\"><span>10</span></td>, <td class=\"\"><span>8.9</span></td>]\n",
      "Kyler Murray\n",
      "[<td class=\"tal\" style=\"background-position:0 7em\"><div class=\"rank\">10<!-- -->. <a data-player-id=\"4361741\" href=\"http://www.espn.com/nfl/player/_/id/4361741/brock-purdy\">Brock Purdy</a>, <!-- -->SF</div></td>, <td class=\"\"></td>, <td class=\"\"><span>10</span></td>, <td class=\"\"><span>10</span></td>, <td class=\"\"><span>10</span></td>, <td class=\"\"><span>10</span></td>, <td class=\"\"><span>8</span></td>, <td class=\"\"><span>10</span></td>, <td class=\"\"><span>8</span></td>, <td class=\"\"><span>9</span></td>, <td class=\"\"><span>9.4</span></td>]\n",
      "Brock Purdy\n",
      "[<td class=\"tal\" style=\"background-position:0 7em\"><div class=\"rank\">11<!-- -->. <a data-player-id=\"4038941\" href=\"http://www.espn.com/nfl/player/_/id/4038941/justin-herbert\">Justin Herbert</a>, <!-- -->LAC</div></td>, <td class=\"\"></td>, <td class=\"\"><span>11</span></td>, <td class=\"\"><span>11</span></td>, <td class=\"\"><span>13</span></td>, <td class=\"\"><span>13</span></td>, <td class=\"\"><span>12</span></td>, <td class=\"\"><span>11</span></td>, <td class=\"\"><span>14</span></td>, <td class=\"\"><span>13</span></td>, <td class=\"\"><span>12.3</span></td>]\n",
      "Justin Herbert\n",
      "[<td class=\"tal\" style=\"background-position:0 7em\"><div class=\"rank\">12<!-- -->. <a data-player-id=\"4431611\" href=\"http://www.espn.com/nfl/player/_/id/4431611/caleb-williams\">Caleb Williams</a>, <!-- -->Chi</div></td>, <td class=\"\"></td>, <td class=\"\"><span>12</span></td>, <td class=\"\"><span>12</span></td>, <td class=\"\"><span>12</span></td>, <td class=\"\"><span>14</span></td>, <td class=\"\"><span>11</span></td>, <td class=\"\"><span>12</span></td>, <td class=\"\"><span>15</span></td>, <td class=\"\"><span>12</span></td>, <td class=\"\"><span>12.5</span></td>]\n",
      "Caleb Williams\n",
      "[<td class=\"tal\" style=\"background-position:0 7em\"><div class=\"rank\">13<!-- -->. <a data-player-id=\"2577417\" href=\"http://www.espn.com/nfl/player/_/id/2577417/dak-prescott\">Dak Prescott</a>, <!-- -->Dal</div></td>, <td class=\"\"></td>, <td class=\"\"><span>15</span></td>, <td class=\"\"><span>13</span></td>, <td class=\"\"><span>11</span></td>, <td class=\"\"><span>11</span></td>, <td class=\"\"><span>15</span></td>, <td class=\"\"><span>13</span></td>, <td class=\"\"><span>12</span></td>, <td class=\"\"><span>11</span></td>, <td class=\"\"><span>12.6</span></td>]\n",
      "Dak Prescott\n",
      "[<td class=\"tal\" style=\"background-position:0 7em\"><div class=\"rank\">14<!-- -->. <a data-player-id=\"4362887\" href=\"http://www.espn.com/nfl/player/_/id/4362887/justin-fields\">Justin Fields</a>, <!-- -->NYJ</div></td>, <td class=\"\"></td>, <td class=\"\"><span>13</span></td>, <td class=\"\"><span>14</span></td>, <td class=\"\"><span>15</span></td>, <td class=\"\"><span>12</span></td>, <td class=\"\"><span>13</span></td>, <td class=\"\"><span>14</span></td>, <td class=\"\"><span>13</span></td>, <td class=\"\"><span>15</span></td>, <td class=\"\"><span>13.6</span></td>]\n",
      "Justin Fields\n",
      "[<td class=\"tal\" style=\"background-position:0 7em\"><div class=\"rank\">15<!-- -->. <a data-player-id=\"4431452\" href=\"http://www.espn.com/nfl/player/_/id/4431452/drake-maye\">Drake Maye</a>, <!-- -->NE</div></td>, <td class=\"\"></td>, <td class=\"\"><span>14</span></td>, <td class=\"\"><span>15</span></td>, <td class=\"\"><span>16</span></td>, <td class=\"\"><span>16</span></td>, <td class=\"\"><span>14</span></td>, <td class=\"\"><span>15</span></td>, <td class=\"\"><span>10</span></td>, <td class=\"\"><span>14</span></td>, <td class=\"\"><span>14.3</span></td>]\n",
      "Drake Maye\n",
      "[<td class=\"tal\" style=\"background-position:0 7em\"><div class=\"rank\">16<!-- -->. <a data-player-id=\"3046779\" href=\"http://www.espn.com/nfl/player/_/id/3046779/jared-goff\">Jared Goff</a>, <!-- -->Det</div></td>, <td class=\"\"></td>, <td class=\"\"><span>17</span></td>, <td class=\"\"><span>17</span></td>, <td class=\"\"><span>14</span></td>, <td class=\"\"><span>15</span></td>, <td class=\"\"><span>16</span></td>, <td class=\"\"><span>17</span></td>, <td class=\"\"><span>19</span></td>, <td class=\"\"><span>16</span></td>, <td class=\"\"><span>16.4</span></td>]\n",
      "Jared Goff\n",
      "[<td class=\"tal\" style=\"background-position:0 7em\"><div class=\"rank\">17<!-- -->. <a data-player-id=\"4036378\" href=\"http://www.espn.com/nfl/player/_/id/4036378/jordan-love\">Jordan Love</a>, <!-- -->GB<span style=\"color:red;font-weight:bold;padding-left:10px\" title=\"Questionable\">Q</span></div></td>, <td class=\"\"></td>, <td class=\"\"><span>16</span></td>, <td class=\"\"><span>16</span></td>, <td class=\"\"><span>17</span></td>, <td class=\"\"><span>18</span></td>, <td class=\"\"><span>22</span></td>, <td class=\"\"><span>16</span></td>, <td class=\"\"><span>16</span></td>, <td class=\"\"><span>17</span></td>, <td class=\"\"><span>17.3</span></td>]\n",
      "Jordan Love\n",
      "[<td class=\"tal\" style=\"background-position:0 7em\"><div class=\"rank\">18<!-- -->. <a data-player-id=\"4433970\" href=\"http://www.espn.com/nfl/player/_/id/4433970/j.j.-mccarthy\">J.J. McCarthy</a>, <!-- -->Min</div></td>, <td class=\"\"></td>, <td class=\"\"><span>21</span></td>, <td class=\"\"><span>18</span></td>, <td class=\"\"><span>19</span></td>, <td class=\"\"><span>19</span></td>, <td class=\"\"><span>17</span></td>, <td class=\"\"><span>20</span></td>, <td class=\"\"><span>18</span></td>, <td class=\"\"><span>18</span></td>, <td class=\"\"><span>18.8</span></td>]\n",
      "JJ McCarthy\n",
      "[<td class=\"tal\" style=\"background-position:0 7em\"><div class=\"rank\">19<!-- -->. <a data-player-id=\"4432577\" href=\"http://www.espn.com/nfl/player/_/id/4432577/c.j.-stroud\">C.J. Stroud</a>, <!-- -->Hou</div></td>, <td class=\"\"></td>, <td class=\"\"><span>18</span></td>, <td class=\"\"><span>21</span></td>, <td class=\"\"><span>18</span></td>, <td class=\"\"><span>17</span></td>, <td class=\"\"><span>19</span></td>, <td class=\"\"><span>19</span></td>, <td class=\"\"><span>20</span></td>, <td class=\"\"><span>21</span></td>, <td class=\"\"><span>19.1</span></td>]\n",
      "CJ Stroud\n",
      "[<td class=\"tal\" style=\"background-position:0 7em\"><div class=\"rank\">20<!-- -->. <a data-player-id=\"4360310\" href=\"http://www.espn.com/nfl/player/_/id/4360310/trevor-lawrence\">Trevor Lawrence</a>, <!-- -->Jax</div></td>, <td class=\"\"></td>, <td class=\"\"><span>20</span></td>, <td class=\"\"><span>22</span></td>, <td class=\"\"><span>21</span></td>, <td class=\"\"><span>20</span></td>, <td class=\"\"><span>21</span></td>, <td class=\"\"><span>18</span></td>, <td class=\"\"><span>17</span></td>, <td class=\"\"><span>19</span></td>, <td class=\"\"><span>19.8</span></td>]\n",
      "Trevor Lawrence\n",
      "[<td class=\"tal\" style=\"background-position:0 7em\"><div class=\"rank\">21<!-- -->. <a data-player-id=\"4241479\" href=\"http://www.espn.com/nfl/player/_/id/4241479/tua-tagovailoa\">Tua Tagovailoa</a>, <!-- -->Mia</div></td>, <td class=\"\"></td>, <td class=\"\"><span>19</span></td>, <td class=\"\"><span>19</span></td>, <td class=\"\"><span>20</span></td>, <td class=\"\"><span>21</span></td>, <td class=\"\"><span>20</span></td>, <td class=\"\"><span>21</span></td>, <td class=\"\"><span>24</span></td>, <td class=\"\"><span>23</span></td>, <td class=\"\"><span>20.9</span></td>]\n",
      "Tua Tagovailoa\n",
      "[<td class=\"tal\" style=\"background-position:0 7em\"><div class=\"rank\">22<!-- -->. <a data-player-id=\"12483\" href=\"http://www.espn.com/nfl/player/_/id/12483/matthew-stafford\">Matthew Stafford</a>, <!-- -->LAR<span style=\"color:red;font-weight:bold;padding-left:10px\" title=\"Questionable\">Q</span></div></td>, <td class=\"\"></td>, <td class=\"\"><span>23</span></td>, <td class=\"\"><span>20</span></td>, <td class=\"\"><span>23</span></td>, <td class=\"\"><span>22</span></td>, <td class=\"\"><span>18</span></td>, <td class=\"\"><span>22</span></td>, <td class=\"\"><span>23</span></td>, <td class=\"\"><span>22</span></td>, <td class=\"\"><span>21.6</span></td>]\n",
      "Matthew Stafford\n",
      "[<td class=\"tal\" style=\"background-position:0 7em\"><div class=\"rank\">23<!-- -->. <a data-player-id=\"4688380\" href=\"http://www.espn.com/nfl/player/_/id/4688380/cam-ward\">Cam Ward</a>, <!-- -->Ten</div></td>, <td class=\"\"></td>, <td class=\"\"><span>22</span></td>, <td class=\"\"><span>23</span></td>, <td class=\"\"><span>25</span></td>, <td class=\"\"><span>23</span></td>, <td class=\"\"><span>25</span></td>, <td class=\"\"><span>24</span></td>, <td class=\"\"><span>NR</span></td>, <td class=\"\"><span>20</span></td>, <td class=\"\"><span>23.5</span></td>]\n",
      "Cam Ward\n",
      "[<td class=\"tal\" style=\"background-position:0 7em\"><div class=\"rank\">24<!-- -->. <a data-player-id=\"4360423\" href=\"http://www.espn.com/nfl/player/_/id/4360423/michael-penix jr.\">Michael Penix Jr.</a>, <!-- -->Atl</div></td>, <td class=\"\"></td>, <td class=\"\"><span>24</span></td>, <td class=\"\"><span>24</span></td>, <td class=\"\"><span>24</span></td>, <td class=\"\"><span>25</span></td>, <td class=\"\"><span>23</span></td>, <td class=\"\"><span>23</span></td>, <td class=\"\"><span>25</span></td>, <td class=\"\"><span>NR</span></td>, <td class=\"\"><span>24.3</span></td>]\n",
      "Michael Penix Jr\n",
      "[<td class=\"tal\" style=\"background-position:0 7em\"><div class=\"rank\">25<!-- -->. <a data-player-id=\"4685720\" href=\"http://www.espn.com/nfl/player/_/id/4685720/bryce-young\">Bryce Young</a>, <!-- -->Car</div></td>, <td class=\"\"></td>, <td class=\"\"><span>NR</span></td>, <td class=\"\"><span>25</span></td>, <td class=\"\"><span>22</span></td>, <td class=\"\"><span>NR</span></td>, <td class=\"\"><span>24</span></td>, <td class=\"\"><span>NR</span></td>, <td class=\"\"><span>22</span></td>, <td class=\"\"><span>25</span></td>, <td class=\"\"><span>24.5</span></td>]\n",
      "Bryce Young\n"
     ]
    }
   ],
   "source": [
    "\n",
    "for tr in player_ranks_html:\n",
    "\n",
    "    tds = tr.find_all(\"td\")\n",
    "    print(tds)\n",
    "    playerId = tds[0].find(\"a\")[\"data-player-id\"]\n",
    "    if group == \"DST\":\n",
    "        name = tds[0].find(\"a\").text.split()[0]\n",
    "    else:\n",
    "        name = tds[0].find(\"a\").text.replace(\".\", \"\")\n",
    "    print(name)   \n",
    "    POS = group\n",
    "    \n",
    "    #team = tds[0].find(\"div\", class_=\"rank\").text.split(\",\")[1].strip().upper()\n",
    "    # try block to handle injury designations that the site puts in the same text as the team name\n",
    "    try:\n",
    "        #if there is a injury designation, it retrieves it and then removes it from the team name\n",
    "        injury = tds[0].find_all(\"div\", class_=\"rank\")[0].find(\"span\").text\n",
    "        if len(injury) > 1:  # Accounts for suspended tag \"SSPD\"\n",
    "            team = tds[0].find_all(\"div\", class_=\"rank\")[0].text.split(\",\")[1].strip().upper()[:-4]\n",
    "        else:\n",
    "            team = tds[0].find_all(\"div\", class_=\"rank\")[0].text.split(\",\")[1].strip().upper()[:-1]\n",
    "\n",
    "    except:\n",
    "        team = tds[0].find(\"div\", class_=\"rank\").text.split(\",\")[1].strip().upper()\n",
    "\n",
    "    for i in range(len(expert_names)-1):\n",
    "        \n",
    "        # expert name from the list generated from thead\n",
    "        expert = expert_names[i]\n",
    "        # position of the expert ranking column in tbody\n",
    "        idx = i + 2\n",
    "\n",
    "        # retrieves the expert rank from tbody rows\n",
    "        exRank = pd.to_numeric(tds[idx].text, errors='coerce')\n",
    "\n",
    "        player_ranks.append([\"espn\", 'today', 2025, 0, POS, expert, exRank, name, playerId, team,  POS, np.nan, np.nan])\n",
    "\n"
   ]
  },
  {
   "cell_type": "code",
   "execution_count": 34,
   "metadata": {},
   "outputs": [
    {
     "name": "stdout",
     "output_type": "stream",
     "text": [
      "['outlet', 'date', 'playerId', 'name', 'shortName', 'pos', 'team', 'adp', 'high', 'low']\n"
     ]
    }
   ],
   "source": [
    "print(list(hf.adp_columns))"
   ]
  },
  {
   "cell_type": "code",
   "execution_count": 25,
   "metadata": {},
   "outputs": [],
   "source": [
    "driver.close()"
   ]
  },
  {
   "cell_type": "code",
   "execution_count": 28,
   "metadata": {},
   "outputs": [
    {
     "data": {
      "text/plain": [
       "<Response [200]>"
      ]
     },
     "execution_count": 28,
     "metadata": {},
     "output_type": "execute_result"
    }
   ],
   "source": [
    "r = requests.get('https://fantasy.nfl.com/research/projections?position=O&sort=projectedPts&statCategory=projectedStats&statSeason=2025&statType=seasonProjectedStats')\n",
    "soup = bs(r.text, features='lxml')"
   ]
  },
  {
   "cell_type": "code",
   "execution_count": 30,
   "metadata": {},
   "outputs": [],
   "source": [
    "from urllib.parse import unquote\n",
    "\n",
    "decoded = unquote(\"https://fantasy.nfl.com/research/projections#researchProjections=researchProjections&research%2Fprojections%253Foffset%253D26%2526position%253DO%2526sort%253DprojectedPts%2526statCategory%253DprojectedStats%2526statSeason%253D2025%2526statType%253DseasonProjectedStats%2526statWeek%253D1%2Creplace\")"
   ]
  },
  {
   "cell_type": "code",
   "execution_count": 31,
   "metadata": {},
   "outputs": [
    {
     "data": {
      "text/plain": [
       "'https://fantasy.nfl.com/research/projections#researchProjections=researchProjections&research/projections%3Foffset%3D26%26position%3DO%26sort%3DprojectedPts%26statCategory%3DprojectedStats%26statSeason%3D2025%26statType%3DseasonProjectedStats%26statWeek%3D1,replace'"
      ]
     },
     "execution_count": 31,
     "metadata": {},
     "output_type": "execute_result"
    }
   ],
   "source": [
    "decoded"
   ]
  },
  {
   "cell_type": "code",
   "execution_count": null,
   "metadata": {},
   "outputs": [],
   "source": []
  }
 ],
 "metadata": {
  "kernelspec": {
   "display_name": "fantasyfootball",
   "language": "python",
   "name": "python3"
  },
  "language_info": {
   "codemirror_mode": {
    "name": "ipython",
    "version": 3
   },
   "file_extension": ".py",
   "mimetype": "text/x-python",
   "name": "python",
   "nbconvert_exporter": "python",
   "pygments_lexer": "ipython3",
   "version": "3.12.10"
  }
 },
 "nbformat": 4,
 "nbformat_minor": 2
}
