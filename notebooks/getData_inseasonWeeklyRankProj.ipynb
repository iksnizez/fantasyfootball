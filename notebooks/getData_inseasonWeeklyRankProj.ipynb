{
 "cells": [
  {
   "cell_type": "code",
   "execution_count": null,
   "id": "be771a9e",
   "metadata": {},
   "outputs": [],
   "source": [
    "##### importing custom modules from the projects folder\n",
    "import sys, date\n",
    "from pathlib import Path\n",
    "# Add project root to sys.path\n",
    "PROJECT_ROOT = Path.cwd().parent if Path.cwd().name == \"notebooks\" else Path.cwd()\n",
    "sys.path.append(str(PROJECT_ROOT))\n",
    "import modules.scrapers as scrapers\n",
    "##### -------------------------------------------------\n",
    "from datetime import date\n",
    "\n",
    "##### PARAMS ######\n",
    "league = 'nfl'\n",
    "export = True\n",
    "today = date.today()\n",
    "season = 2025\n",
    "week = int(input(\"What week is it >>>>>> ? \"))\n",
    "print(today, \"Week:\", week)"
   ]
  },
  {
   "cell_type": "code",
   "execution_count": null,
   "id": "3b89d031",
   "metadata": {},
   "outputs": [],
   "source": [
    "scraper = scrapers.scrapers(\n",
    "    season = season,\n",
    "    week = week,\n",
    "    today = today\n",
    ")"
   ]
  },
  {
   "cell_type": "code",
   "execution_count": null,
   "id": "7028f15a",
   "metadata": {},
   "outputs": [],
   "source": [
    "scraper.cbs_projections(export = export)"
   ]
  },
  {
   "cell_type": "code",
   "execution_count": null,
   "id": "f9548528",
   "metadata": {},
   "outputs": [],
   "source": [
    "# doesn't work anymore\n",
    "scraper.cbs_rankings(export = export)"
   ]
  },
  {
   "cell_type": "code",
   "execution_count": null,
   "id": "83a0dae3",
   "metadata": {},
   "outputs": [],
   "source": [
    "scraper.cbs_game_scores(export = export)"
   ]
  },
  {
   "cell_type": "code",
   "execution_count": null,
   "id": "8c14652e",
   "metadata": {},
   "outputs": [],
   "source": [
    "scraper.ffp_ecr_rankings(export = export)"
   ]
  },
  {
   "cell_type": "code",
   "execution_count": null,
   "id": "ce45a629",
   "metadata": {},
   "outputs": [],
   "source": [
    "scraper.ffp_rankings(export = export)"
   ]
  },
  {
   "cell_type": "code",
   "execution_count": null,
   "id": "c2a2c449",
   "metadata": {},
   "outputs": [],
   "source": [
    "scraper.espn_projections(export = export)"
   ]
  },
  {
   "cell_type": "code",
   "execution_count": null,
   "id": "a61f77de",
   "metadata": {},
   "outputs": [],
   "source": [
    "scraper.espn_rankings(export = export)"
   ]
  },
  {
   "cell_type": "code",
   "execution_count": null,
   "id": "047e90c1",
   "metadata": {},
   "outputs": [],
   "source": [
    "scraper.nfl_projections(export = export)"
   ]
  },
  {
   "cell_type": "code",
   "execution_count": null,
   "id": "616a8485",
   "metadata": {},
   "outputs": [],
   "source": [
    "scraper.nfl_rankings(export = export)"
   ]
  },
  {
   "cell_type": "code",
   "execution_count": null,
   "id": "1af8abec",
   "metadata": {},
   "outputs": [],
   "source": [
    "scraper.bp_lines(export = export)"
   ]
  },
  {
   "cell_type": "code",
   "execution_count": null,
   "id": "12dab6a5",
   "metadata": {},
   "outputs": [],
   "source": []
  }
 ],
 "metadata": {
  "language_info": {
   "name": "python"
  }
 },
 "nbformat": 4,
 "nbformat_minor": 5
}
