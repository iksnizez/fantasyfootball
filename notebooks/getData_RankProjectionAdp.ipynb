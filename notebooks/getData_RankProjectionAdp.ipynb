{
 "cells": [
  {
   "cell_type": "code",
   "execution_count": 18,
   "id": "be771a9e",
   "metadata": {},
   "outputs": [
    {
     "name": "stdout",
     "output_type": "stream",
     "text": [
      "2025-08-17 Week: 0\n"
     ]
    }
   ],
   "source": [
    "##### importing custom modules from the projects folder\n",
    "import sys\n",
    "from pathlib import Path\n",
    "# Add project root to sys.path\n",
    "PROJECT_ROOT = Path.cwd().parent if Path.cwd().name == \"notebooks\" else Path.cwd()\n",
    "sys.path.append(str(PROJECT_ROOT))\n",
    "import modules.scrapers as scrapers\n",
    "##### -------------------------------------------------\n",
    "from datetime import date\n",
    "\n",
    "##### PARAMS ######\n",
    "league = 'nfl'\n",
    "export = True\n",
    "today = date.today()\n",
    "season = 2025\n",
    "inseason = False\n",
    "week = int(input(\"What week is it >>>>>> ? \"))\n",
    "print(today, \"Week:\", week)\n",
    "\n",
    "scraper = scrapers.scrapers(\n",
    "    season = season,\n",
    "    week = week,\n",
    "    today = today\n",
    ")"
   ]
  },
  {
   "cell_type": "markdown",
   "id": "cae4dd0e",
   "metadata": {},
   "source": [
    "### ONLY RUNS INSEASON FOR UPDATING ACTUAL GAME RESULTS AT THE END OF THE WEEK"
   ]
  },
  {
   "cell_type": "code",
   "execution_count": null,
   "id": "83a0dae3",
   "metadata": {},
   "outputs": [],
   "source": [
    "\n",
    "#scraper.cbs_game_scores(inseason = inseason, export = export)"
   ]
  },
  {
   "cell_type": "markdown",
   "id": "ee2663eb",
   "metadata": {},
   "source": [
    "### can run these proj and rank scrapes offseason or inseason"
   ]
  },
  {
   "cell_type": "code",
   "execution_count": 199,
   "id": "7028f15a",
   "metadata": {},
   "outputs": [
    {
     "data": {
      "text/plain": [
       "(441, 60)"
      ]
     },
     "execution_count": 199,
     "metadata": {},
     "output_type": "execute_result"
    }
   ],
   "source": [
    "# in- and off-season\n",
    "scraper.cbs_projections(inseason = inseason, export = export)"
   ]
  },
  {
   "cell_type": "code",
   "execution_count": null,
   "id": "f9548528",
   "metadata": {},
   "outputs": [],
   "source": [
    "# doesn't work anymore\n",
    "#scraper.cbs_rankings(export = export)"
   ]
  },
  {
   "cell_type": "code",
   "execution_count": null,
   "id": "8c14652e",
   "metadata": {},
   "outputs": [],
   "source": [
    "# in- and off-season\n",
    "scraper.ffp_ecr_rankings(inseason = inseason, export = export)"
   ]
  },
  {
   "cell_type": "code",
   "execution_count": 198,
   "id": "c2a2c449",
   "metadata": {},
   "outputs": [
    {
     "data": {
      "text/plain": [
       "(600, 60)"
      ]
     },
     "execution_count": 198,
     "metadata": {},
     "output_type": "execute_result"
    }
   ],
   "source": [
    "# in- and off-season\n",
    "scraper.espn_projections(inseason = inseason, export = export)"
   ]
  },
  {
   "cell_type": "code",
   "execution_count": null,
   "id": "a61f77de",
   "metadata": {},
   "outputs": [],
   "source": [
    "# in- and off-season\n",
    "scraper.espn_rankings(inseason = inseason, export = export)"
   ]
  },
  {
   "cell_type": "code",
   "execution_count": 195,
   "id": "047e90c1",
   "metadata": {},
   "outputs": [
    {
     "name": "stderr",
     "output_type": "stream",
     "text": [
      "<string>:245: FutureWarning: Downcasting behavior in `replace` is deprecated and will be removed in a future version. To retain the old behavior, explicitly call `result.infer_objects(copy=False)`. To opt-in to the future behavior, set `pd.set_option('future.no_silent_downcasting', True)`\n"
     ]
    },
    {
     "data": {
      "text/plain": [
       "(1100, 60)"
      ]
     },
     "execution_count": 195,
     "metadata": {},
     "output_type": "execute_result"
    }
   ],
   "source": [
    "# in- and off-season\n",
    "scraper.nfl_projections(inseason = inseason, export = export)"
   ]
  },
  {
   "cell_type": "code",
   "execution_count": null,
   "id": "616a8485",
   "metadata": {},
   "outputs": [],
   "source": [
    "# in- and off-season\n",
    "scraper.nfl_rankings(inseason = inseason, export = export)"
   ]
  },
  {
   "cell_type": "code",
   "execution_count": null,
   "id": "1af8abec",
   "metadata": {},
   "outputs": [],
   "source": [
    "scraper.bp_lines(export = export)"
   ]
  },
  {
   "cell_type": "markdown",
   "id": "12dab6a5",
   "metadata": {},
   "source": [
    "#  ADP"
   ]
  },
  {
   "cell_type": "code",
   "execution_count": 95,
   "id": "16577e07",
   "metadata": {},
   "outputs": [],
   "source": [
    "scraper.cbs_adp(\n",
    "    export = export\n",
    ")"
   ]
  },
  {
   "cell_type": "code",
   "execution_count": null,
   "id": "23295fdf",
   "metadata": {},
   "outputs": [],
   "source": [
    "scraper.ffp_adp(\n",
    "        export = export\n",
    "    )"
   ]
  },
  {
   "cell_type": "code",
   "execution_count": null,
   "id": "e30c7874",
   "metadata": {},
   "outputs": [],
   "source": [
    "scraper.espn_adp(\n",
    "        export = export\n",
    "    )"
   ]
  },
  {
   "cell_type": "markdown",
   "id": "b025001d",
   "metadata": {},
   "source": [
    "# Process"
   ]
  },
  {
   "cell_type": "code",
   "execution_count": 38,
   "id": "be0e48ed",
   "metadata": {},
   "outputs": [
    {
     "name": "stdout",
     "output_type": "stream",
     "text": [
      "query successful\n",
      "query successful\n",
      "query successful\n",
      "query successful\n",
      "query successful\n",
      "query successful\n"
     ]
    },
    {
     "name": "stderr",
     "output_type": "stream",
     "text": [
      "<string>:35: FutureWarning: The behavior of DataFrame concatenation with empty or all-NA entries is deprecated. In a future version, this will no longer exclude empty or all-NA columns when determining the result dtypes. To retain the old behavior, exclude the relevant entries before the concat operation.\n",
      "<string>:32: FutureWarning: The behavior of DataFrame concatenation with empty or all-NA entries is deprecated. In a future version, this will no longer exclude empty or all-NA columns when determining the result dtypes. To retain the old behavior, exclude the relevant entries before the concat operation.\n"
     ]
    },
    {
     "name": "stdout",
     "output_type": "stream",
     "text": [
      "1883 missing players..\n",
      "query successful\n"
     ]
    },
    {
     "name": "stderr",
     "output_type": "stream",
     "text": [
      "<string>:9: SettingWithCopyWarning: \n",
      "A value is trying to be set on a copy of a slice from a DataFrame.\n",
      "Try using .loc[row_indexer,col_indexer] = value instead\n",
      "\n",
      "See the caveats in the documentation: https://pandas.pydata.org/pandas-docs/stable/user_guide/indexing.html#returning-a-view-versus-a-copy\n"
     ]
    },
    {
     "name": "stdout",
     "output_type": "stream",
     "text": [
      "query successful\n",
      "successfully added data to player\n",
      "inserts completed..\n",
      "cbs\n",
      "Empty DataFrame\n",
      "Columns: [playerId, cbsId, cbsName]\n",
      "Index: []\n",
      "(sqlalchemy.exc.InvalidRequestError) A value is required for bind parameter 'cbsId'\n",
      "[SQL: UPDATE player SET cbsId = %(cbsId)s, cbsName = %(cbsName)s WHERE playerId = %(playerId)s]\n",
      "(Background on this error at: https://sqlalche.me/e/20/cd3x)\n"
     ]
    },
    {
     "name": "stderr",
     "output_type": "stream",
     "text": [
      "<string>:31: FutureWarning: The behavior of DataFrame concatenation with empty or all-NA entries is deprecated. In a future version, this will no longer exclude empty or all-NA columns when determining the result dtypes. To retain the old behavior, exclude the relevant entries before the concat operation.\n",
      "<string>:27: FutureWarning: The behavior of DataFrame concatenation with empty or all-NA entries is deprecated. In a future version, this will no longer exclude empty or all-NA columns when determining the result dtypes. To retain the old behavior, exclude the relevant entries before the concat operation.\n"
     ]
    },
    {
     "name": "stdout",
     "output_type": "stream",
     "text": [
      "7 missing players..\n",
      "query successful\n"
     ]
    },
    {
     "name": "stderr",
     "output_type": "stream",
     "text": [
      "<string>:9: SettingWithCopyWarning: \n",
      "A value is trying to be set on a copy of a slice from a DataFrame.\n",
      "Try using .loc[row_indexer,col_indexer] = value instead\n",
      "\n",
      "See the caveats in the documentation: https://pandas.pydata.org/pandas-docs/stable/user_guide/indexing.html#returning-a-view-versus-a-copy\n"
     ]
    },
    {
     "name": "stdout",
     "output_type": "stream",
     "text": [
      "query successful\n",
      "successfully added data to player\n",
      "inserts completed..\n",
      "fantasyPros\n",
      "nfl\n",
      "updates completed...\n"
     ]
    },
    {
     "data": {
      "text/html": [
       "<div>\n",
       "<style scoped>\n",
       "    .dataframe tbody tr th:only-of-type {\n",
       "        vertical-align: middle;\n",
       "    }\n",
       "\n",
       "    .dataframe tbody tr th {\n",
       "        vertical-align: top;\n",
       "    }\n",
       "\n",
       "    .dataframe thead th {\n",
       "        text-align: right;\n",
       "    }\n",
       "</style>\n",
       "<table border=\"1\" class=\"dataframe\">\n",
       "  <thead>\n",
       "    <tr style=\"text-align: right;\">\n",
       "      <th></th>\n",
       "      <th>outlet</th>\n",
       "      <th>date</th>\n",
       "      <th>season</th>\n",
       "      <th>week</th>\n",
       "      <th>group</th>\n",
       "      <th>expert</th>\n",
       "      <th>rank</th>\n",
       "      <th>high</th>\n",
       "      <th>low</th>\n",
       "      <th>playerId</th>\n",
       "    </tr>\n",
       "  </thead>\n",
       "  <tbody>\n",
       "    <tr>\n",
       "      <th>0</th>\n",
       "      <td>1</td>\n",
       "      <td>2022-08-22</td>\n",
       "      <td>2022</td>\n",
       "      <td>0</td>\n",
       "      <td>QB</td>\n",
       "      <td>1</td>\n",
       "      <td>1.0</td>\n",
       "      <td>None</td>\n",
       "      <td>None</td>\n",
       "      <td>88</td>\n",
       "    </tr>\n",
       "    <tr>\n",
       "      <th>1</th>\n",
       "      <td>1</td>\n",
       "      <td>2022-08-22</td>\n",
       "      <td>2022</td>\n",
       "      <td>0</td>\n",
       "      <td>QB</td>\n",
       "      <td>2</td>\n",
       "      <td>1.0</td>\n",
       "      <td>None</td>\n",
       "      <td>None</td>\n",
       "      <td>88</td>\n",
       "    </tr>\n",
       "    <tr>\n",
       "      <th>2</th>\n",
       "      <td>1</td>\n",
       "      <td>2022-08-22</td>\n",
       "      <td>2022</td>\n",
       "      <td>0</td>\n",
       "      <td>QB</td>\n",
       "      <td>3</td>\n",
       "      <td>1.0</td>\n",
       "      <td>None</td>\n",
       "      <td>None</td>\n",
       "      <td>88</td>\n",
       "    </tr>\n",
       "    <tr>\n",
       "      <th>3</th>\n",
       "      <td>1</td>\n",
       "      <td>2022-08-22</td>\n",
       "      <td>2022</td>\n",
       "      <td>0</td>\n",
       "      <td>QB</td>\n",
       "      <td>4</td>\n",
       "      <td>1.0</td>\n",
       "      <td>None</td>\n",
       "      <td>None</td>\n",
       "      <td>88</td>\n",
       "    </tr>\n",
       "    <tr>\n",
       "      <th>4</th>\n",
       "      <td>1</td>\n",
       "      <td>2022-08-22</td>\n",
       "      <td>2022</td>\n",
       "      <td>0</td>\n",
       "      <td>QB</td>\n",
       "      <td>5</td>\n",
       "      <td>1.0</td>\n",
       "      <td>None</td>\n",
       "      <td>None</td>\n",
       "      <td>88</td>\n",
       "    </tr>\n",
       "    <tr>\n",
       "      <th>...</th>\n",
       "      <td>...</td>\n",
       "      <td>...</td>\n",
       "      <td>...</td>\n",
       "      <td>...</td>\n",
       "      <td>...</td>\n",
       "      <td>...</td>\n",
       "      <td>...</td>\n",
       "      <td>...</td>\n",
       "      <td>...</td>\n",
       "      <td>...</td>\n",
       "    </tr>\n",
       "    <tr>\n",
       "      <th>379</th>\n",
       "      <td>4</td>\n",
       "      <td>2025-08-16</td>\n",
       "      <td>2025</td>\n",
       "      <td>0</td>\n",
       "      <td>DB</td>\n",
       "      <td>13</td>\n",
       "      <td>26.0</td>\n",
       "      <td>None</td>\n",
       "      <td>None</td>\n",
       "      <td>15327</td>\n",
       "    </tr>\n",
       "    <tr>\n",
       "      <th>380</th>\n",
       "      <td>4</td>\n",
       "      <td>2025-08-16</td>\n",
       "      <td>2025</td>\n",
       "      <td>0</td>\n",
       "      <td>DB</td>\n",
       "      <td>13</td>\n",
       "      <td>27.0</td>\n",
       "      <td>None</td>\n",
       "      <td>None</td>\n",
       "      <td>1332</td>\n",
       "    </tr>\n",
       "    <tr>\n",
       "      <th>381</th>\n",
       "      <td>4</td>\n",
       "      <td>2025-08-16</td>\n",
       "      <td>2025</td>\n",
       "      <td>0</td>\n",
       "      <td>DB</td>\n",
       "      <td>13</td>\n",
       "      <td>28.0</td>\n",
       "      <td>None</td>\n",
       "      <td>None</td>\n",
       "      <td>1754</td>\n",
       "    </tr>\n",
       "    <tr>\n",
       "      <th>382</th>\n",
       "      <td>4</td>\n",
       "      <td>2025-08-16</td>\n",
       "      <td>2025</td>\n",
       "      <td>0</td>\n",
       "      <td>DB</td>\n",
       "      <td>13</td>\n",
       "      <td>29.0</td>\n",
       "      <td>None</td>\n",
       "      <td>None</td>\n",
       "      <td>5784</td>\n",
       "    </tr>\n",
       "    <tr>\n",
       "      <th>383</th>\n",
       "      <td>4</td>\n",
       "      <td>2025-08-16</td>\n",
       "      <td>2025</td>\n",
       "      <td>0</td>\n",
       "      <td>DB</td>\n",
       "      <td>13</td>\n",
       "      <td>30.0</td>\n",
       "      <td>None</td>\n",
       "      <td>None</td>\n",
       "      <td>1301</td>\n",
       "    </tr>\n",
       "  </tbody>\n",
       "</table>\n",
       "<p>165158 rows × 10 columns</p>\n",
       "</div>"
      ],
      "text/plain": [
       "    outlet       date season week group expert  rank  high   low  playerId\n",
       "0        1 2022-08-22   2022    0    QB      1   1.0  None  None        88\n",
       "1        1 2022-08-22   2022    0    QB      2   1.0  None  None        88\n",
       "2        1 2022-08-22   2022    0    QB      3   1.0  None  None        88\n",
       "3        1 2022-08-22   2022    0    QB      4   1.0  None  None        88\n",
       "4        1 2022-08-22   2022    0    QB      5   1.0  None  None        88\n",
       "..     ...        ...    ...  ...   ...    ...   ...   ...   ...       ...\n",
       "379      4 2025-08-16   2025    0    DB     13  26.0  None  None     15327\n",
       "380      4 2025-08-16   2025    0    DB     13  27.0  None  None      1332\n",
       "381      4 2025-08-16   2025    0    DB     13  28.0  None  None      1754\n",
       "382      4 2025-08-16   2025    0    DB     13  29.0  None  None      5784\n",
       "383      4 2025-08-16   2025    0    DB     13  30.0  None  None      1301\n",
       "\n",
       "[165158 rows x 10 columns]"
      ]
     },
     "execution_count": 38,
     "metadata": {},
     "output_type": "execute_result"
    }
   ],
   "source": [
    "scraper.generate_id_maps()\n",
    "scraper.process_projections()\n",
    "scraper.process_rankings()"
   ]
  },
  {
   "cell_type": "code",
   "execution_count": 139,
   "id": "6b902098",
   "metadata": {},
   "outputs": [],
   "source": [
    "# all 2024 is loaded\n",
    "#scraper.process_game_lines(bettingTableName = 'betting')"
   ]
  },
  {
   "cell_type": "code",
   "execution_count": 35,
   "id": "dc586fc5",
   "metadata": {},
   "outputs": [
    {
     "name": "stderr",
     "output_type": "stream",
     "text": [
      "<string>:27: FutureWarning: The behavior of DataFrame concatenation with empty or all-NA entries is deprecated. In a future version, this will no longer exclude empty or all-NA columns when determining the result dtypes. To retain the old behavior, exclude the relevant entries before the concat operation.\n",
      "<string>:31: FutureWarning: The behavior of DataFrame concatenation with empty or all-NA entries is deprecated. In a future version, this will no longer exclude empty or all-NA columns when determining the result dtypes. To retain the old behavior, exclude the relevant entries before the concat operation.\n"
     ]
    },
    {
     "name": "stdout",
     "output_type": "stream",
     "text": [
      "13 missing players..\n",
      "query successful\n"
     ]
    },
    {
     "name": "stderr",
     "output_type": "stream",
     "text": [
      "<string>:9: SettingWithCopyWarning: \n",
      "A value is trying to be set on a copy of a slice from a DataFrame.\n",
      "Try using .loc[row_indexer,col_indexer] = value instead\n",
      "\n",
      "See the caveats in the documentation: https://pandas.pydata.org/pandas-docs/stable/user_guide/indexing.html#returning-a-view-versus-a-copy\n"
     ]
    },
    {
     "name": "stdout",
     "output_type": "stream",
     "text": [
      "query successful\n",
      "successfully added data to player\n",
      "inserts completed..\n",
      "espn\n",
      "fantasyPros\n",
      "nfl\n",
      "updates completed...\n"
     ]
    },
    {
     "data": {
      "text/html": [
       "<div>\n",
       "<style scoped>\n",
       "    .dataframe tbody tr th:only-of-type {\n",
       "        vertical-align: middle;\n",
       "    }\n",
       "\n",
       "    .dataframe tbody tr th {\n",
       "        vertical-align: top;\n",
       "    }\n",
       "\n",
       "    .dataframe thead th {\n",
       "        text-align: right;\n",
       "    }\n",
       "</style>\n",
       "<table border=\"1\" class=\"dataframe\">\n",
       "  <thead>\n",
       "    <tr style=\"text-align: right;\">\n",
       "      <th></th>\n",
       "      <th>outlet</th>\n",
       "      <th>date</th>\n",
       "      <th>season</th>\n",
       "      <th>week</th>\n",
       "      <th>group</th>\n",
       "      <th>expert</th>\n",
       "      <th>rank</th>\n",
       "      <th>high</th>\n",
       "      <th>low</th>\n",
       "      <th>playerId</th>\n",
       "    </tr>\n",
       "  </thead>\n",
       "  <tbody>\n",
       "    <tr>\n",
       "      <th>0</th>\n",
       "      <td>1</td>\n",
       "      <td>2022-08-22</td>\n",
       "      <td>2022</td>\n",
       "      <td>0</td>\n",
       "      <td>QB</td>\n",
       "      <td>1</td>\n",
       "      <td>1.0</td>\n",
       "      <td>None</td>\n",
       "      <td>None</td>\n",
       "      <td>1204</td>\n",
       "    </tr>\n",
       "    <tr>\n",
       "      <th>1</th>\n",
       "      <td>1</td>\n",
       "      <td>2022-08-22</td>\n",
       "      <td>2022</td>\n",
       "      <td>0</td>\n",
       "      <td>QB</td>\n",
       "      <td>2</td>\n",
       "      <td>1.0</td>\n",
       "      <td>None</td>\n",
       "      <td>None</td>\n",
       "      <td>1204</td>\n",
       "    </tr>\n",
       "    <tr>\n",
       "      <th>2</th>\n",
       "      <td>1</td>\n",
       "      <td>2022-08-22</td>\n",
       "      <td>2022</td>\n",
       "      <td>0</td>\n",
       "      <td>QB</td>\n",
       "      <td>3</td>\n",
       "      <td>1.0</td>\n",
       "      <td>None</td>\n",
       "      <td>None</td>\n",
       "      <td>1204</td>\n",
       "    </tr>\n",
       "    <tr>\n",
       "      <th>3</th>\n",
       "      <td>1</td>\n",
       "      <td>2022-08-22</td>\n",
       "      <td>2022</td>\n",
       "      <td>0</td>\n",
       "      <td>QB</td>\n",
       "      <td>4</td>\n",
       "      <td>1.0</td>\n",
       "      <td>None</td>\n",
       "      <td>None</td>\n",
       "      <td>1204</td>\n",
       "    </tr>\n",
       "    <tr>\n",
       "      <th>4</th>\n",
       "      <td>1</td>\n",
       "      <td>2022-08-22</td>\n",
       "      <td>2022</td>\n",
       "      <td>0</td>\n",
       "      <td>QB</td>\n",
       "      <td>5</td>\n",
       "      <td>1.0</td>\n",
       "      <td>None</td>\n",
       "      <td>None</td>\n",
       "      <td>1204</td>\n",
       "    </tr>\n",
       "    <tr>\n",
       "      <th>...</th>\n",
       "      <td>...</td>\n",
       "      <td>...</td>\n",
       "      <td>...</td>\n",
       "      <td>...</td>\n",
       "      <td>...</td>\n",
       "      <td>...</td>\n",
       "      <td>...</td>\n",
       "      <td>...</td>\n",
       "      <td>...</td>\n",
       "      <td>...</td>\n",
       "    </tr>\n",
       "    <tr>\n",
       "      <th>379</th>\n",
       "      <td>4</td>\n",
       "      <td>2025-08-16</td>\n",
       "      <td>2025</td>\n",
       "      <td>0</td>\n",
       "      <td>DB</td>\n",
       "      <td>13</td>\n",
       "      <td>26.0</td>\n",
       "      <td>None</td>\n",
       "      <td>None</td>\n",
       "      <td>15327</td>\n",
       "    </tr>\n",
       "    <tr>\n",
       "      <th>380</th>\n",
       "      <td>4</td>\n",
       "      <td>2025-08-16</td>\n",
       "      <td>2025</td>\n",
       "      <td>0</td>\n",
       "      <td>DB</td>\n",
       "      <td>13</td>\n",
       "      <td>27.0</td>\n",
       "      <td>None</td>\n",
       "      <td>None</td>\n",
       "      <td>1332</td>\n",
       "    </tr>\n",
       "    <tr>\n",
       "      <th>381</th>\n",
       "      <td>4</td>\n",
       "      <td>2025-08-16</td>\n",
       "      <td>2025</td>\n",
       "      <td>0</td>\n",
       "      <td>DB</td>\n",
       "      <td>13</td>\n",
       "      <td>28.0</td>\n",
       "      <td>None</td>\n",
       "      <td>None</td>\n",
       "      <td>1754</td>\n",
       "    </tr>\n",
       "    <tr>\n",
       "      <th>382</th>\n",
       "      <td>4</td>\n",
       "      <td>2025-08-16</td>\n",
       "      <td>2025</td>\n",
       "      <td>0</td>\n",
       "      <td>DB</td>\n",
       "      <td>13</td>\n",
       "      <td>29.0</td>\n",
       "      <td>None</td>\n",
       "      <td>None</td>\n",
       "      <td>5784</td>\n",
       "    </tr>\n",
       "    <tr>\n",
       "      <th>383</th>\n",
       "      <td>4</td>\n",
       "      <td>2025-08-16</td>\n",
       "      <td>2025</td>\n",
       "      <td>0</td>\n",
       "      <td>DB</td>\n",
       "      <td>13</td>\n",
       "      <td>30.0</td>\n",
       "      <td>None</td>\n",
       "      <td>None</td>\n",
       "      <td>1301</td>\n",
       "    </tr>\n",
       "  </tbody>\n",
       "</table>\n",
       "<p>165158 rows × 10 columns</p>\n",
       "</div>"
      ],
      "text/plain": [
       "    outlet       date season week group expert  rank  high   low  playerId\n",
       "0        1 2022-08-22   2022    0    QB      1   1.0  None  None      1204\n",
       "1        1 2022-08-22   2022    0    QB      2   1.0  None  None      1204\n",
       "2        1 2022-08-22   2022    0    QB      3   1.0  None  None      1204\n",
       "3        1 2022-08-22   2022    0    QB      4   1.0  None  None      1204\n",
       "4        1 2022-08-22   2022    0    QB      5   1.0  None  None      1204\n",
       "..     ...        ...    ...  ...   ...    ...   ...   ...   ...       ...\n",
       "379      4 2025-08-16   2025    0    DB     13  26.0  None  None     15327\n",
       "380      4 2025-08-16   2025    0    DB     13  27.0  None  None      1332\n",
       "381      4 2025-08-16   2025    0    DB     13  28.0  None  None      1754\n",
       "382      4 2025-08-16   2025    0    DB     13  29.0  None  None      5784\n",
       "383      4 2025-08-16   2025    0    DB     13  30.0  None  None      1301\n",
       "\n",
       "[165158 rows x 10 columns]"
      ]
     },
     "execution_count": 35,
     "metadata": {},
     "output_type": "execute_result"
    }
   ],
   "source": [
    "\n",
    "scraper.process_rankings()\n"
   ]
  },
  {
   "cell_type": "code",
   "execution_count": null,
   "id": "ee3ba876",
   "metadata": {},
   "outputs": [
    {
     "data": {
      "text/plain": [
       "(135021, 10)"
      ]
     },
     "execution_count": 271,
     "metadata": {},
     "output_type": "execute_result"
    }
   ],
   "source": []
  },
  {
   "cell_type": "code",
   "execution_count": null,
   "id": "db5e95d8",
   "metadata": {},
   "outputs": [],
   "source": []
  },
  {
   "cell_type": "code",
   "execution_count": null,
   "id": "755b4eb5",
   "metadata": {},
   "outputs": [],
   "source": []
  },
  {
   "cell_type": "code",
   "execution_count": null,
   "id": "ace69785",
   "metadata": {},
   "outputs": [],
   "source": []
  }
 ],
 "metadata": {
  "kernelspec": {
   "display_name": "fantasyfootball",
   "language": "python",
   "name": "python3"
  },
  "language_info": {
   "codemirror_mode": {
    "name": "ipython",
    "version": 3
   },
   "file_extension": ".py",
   "mimetype": "text/x-python",
   "name": "python",
   "nbconvert_exporter": "python",
   "pygments_lexer": "ipython3",
   "version": "3.12.10"
  }
 },
 "nbformat": 4,
 "nbformat_minor": 5
}
