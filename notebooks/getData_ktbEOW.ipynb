{
 "cells": [
  {
   "cell_type": "code",
   "execution_count": 12,
   "id": "df7d2b2b",
   "metadata": {},
   "outputs": [
    {
     "name": "stdout",
     "output_type": "stream",
     "text": [
      "2025-09-09 Week: 1\n"
     ]
    }
   ],
   "source": [
    "##### importing custom modules from the projects folder\n",
    "import sys\n",
    "from pathlib import Path\n",
    "# Add project root to sys.path\n",
    "PROJECT_ROOT = Path.cwd().parent if Path.cwd().name == \"notebooks\" else Path.cwd()\n",
    "sys.path.append(str(PROJECT_ROOT))\n",
    "import modules.ktbFantasyFootball as ktbff\n",
    "##### -------------------------------------------------\n",
    "from datetime import date\n",
    "\n",
    "# =====================================================\n",
    "#               PARAMS\n",
    "# =====================================================\n",
    "league = 'nfl'\n",
    "export_to_file = True\n",
    "append_to_db = True\n",
    "today = date.today()\n",
    "season = 2025\n",
    "week = int(input(\"What week is it >>>>>> ? \"))\n",
    "print(today, \"Week:\", week)\n",
    "\n",
    "league = ktbff.ktb(\n",
    "    season = season,\n",
    "    week = week,\n",
    "    database_export = append_to_db, \n",
    "    store_locally=export_to_file\n",
    ")"
   ]
  },
  {
   "cell_type": "markdown",
   "id": "d0fbcc7d",
   "metadata": {},
   "source": [
    "# get data"
   ]
  },
  {
   "cell_type": "code",
   "execution_count": 13,
   "id": "9a73a1e3",
   "metadata": {},
   "outputs": [
    {
     "name": "stdout",
     "output_type": "stream",
     "text": [
      "weekly player data hit: <Response [200]>\n",
      "weekly league data hit: <Response [200]>\n",
      "weekly boxscore data hit: <Response [200]>\n"
     ]
    }
   ],
   "source": [
    "league.get_weekly_data()"
   ]
  },
  {
   "cell_type": "markdown",
   "id": "586b88b8",
   "metadata": {},
   "source": [
    "# process data"
   ]
  },
  {
   "cell_type": "code",
   "execution_count": null,
   "id": "229449ce",
   "metadata": {},
   "outputs": [
    {
     "name": "stdout",
     "output_type": "stream",
     "text": [
      "successfully added data to ktbWeeklyTeams\n"
     ]
    },
    {
     "name": "stderr",
     "output_type": "stream",
     "text": [
      "c:\\Users\\jrbrz\\Desktop\\projects\\projects\\fantasyfootball\\modules\\helperModule.py:212: UserWarning: The provided table name 'ktbWeeklyTeams' is not found exactly as such in the database after writing the table, possibly due to case sensitivity issues. Consider using lower case table names.\n",
      "  dataframe.to_sql(\n"
     ]
    }
   ],
   "source": [
    "# process weekly standings, records, pf pa\n",
    "league.process_weekly_data_league(\n",
    "    filepath_history_json = None,\n",
    "    database_table = 'ktbWeeklyTeams'\n",
    ")\n"
   ]
  },
  {
   "cell_type": "code",
   "execution_count": null,
   "id": "66ff126a",
   "metadata": {},
   "outputs": [
    {
     "name": "stdout",
     "output_type": "stream",
     "text": [
      "successfully added data to ktbgames\n"
     ]
    }
   ],
   "source": [
    "# adds head to head data for weekly matchups\n",
    "league.process_weekly_boxscores(\n",
    "    filepath_history_json = None,\n",
    "    database_table = 'ktbgames'\n",
    ")\n"
   ]
  },
  {
   "cell_type": "code",
   "execution_count": null,
   "id": "7ce60150",
   "metadata": {},
   "outputs": [],
   "source": [
    "# ==========================================\n",
    "# neither of these are doing anything atm\n",
    "# ==========================================\n",
    "\n",
    "# need to see if i can find the weekly scoring data\n",
    "# to calculate perfect scores, wasted points, etcc..\n",
    "# seems like the data was move or made unavailable in 2024 \n",
    "#league.process_weekly_data_boxscore(\n",
    "#    filepath_history_json = None,\n",
    "#    database_table = 'ktbWeeklyScores'\n",
    "#)\n",
    "\n",
    "# I don't think i want this data for anything\n",
    "# keeping the json files just in case\n",
    "\n",
    "#league.process_weekly_data_player(\n",
    "#\n",
    "#)"
   ]
  },
  {
   "cell_type": "markdown",
   "id": "f6e33d3a",
   "metadata": {},
   "source": [
    "# 4 years worth of weekly player data from the espn fantasy\n",
    "# not sure what i want to do with it so i haven't processed\n",
    "# or saved to db\n",
    "directory =  str(hf.DATA_DIR) + \"/Season/player/\"\n",
    "#looping through every betting line file to aggregate into single df\n",
    "for filename in os.listdir(directory):\n",
    "    f = os.path.join(directory,filename)\n",
    "    league.process_weekly_data_player(\n",
    "        filepath_history_json = f\n",
    "    )"
   ]
  },
  {
   "cell_type": "code",
   "execution_count": null,
   "id": "27b91235",
   "metadata": {},
   "outputs": [],
   "source": []
  }
 ],
 "metadata": {
  "kernelspec": {
   "display_name": "fantasyfootball",
   "language": "python",
   "name": "python3"
  },
  "language_info": {
   "codemirror_mode": {
    "name": "ipython",
    "version": 3
   },
   "file_extension": ".py",
   "mimetype": "text/x-python",
   "name": "python",
   "nbconvert_exporter": "python",
   "pygments_lexer": "ipython3",
   "version": "3.12.10"
  }
 },
 "nbformat": 4,
 "nbformat_minor": 5
}
