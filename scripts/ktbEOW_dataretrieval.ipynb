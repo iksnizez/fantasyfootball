{
 "cells": [
  {
   "cell_type": "raw",
   "metadata": {},
   "source": [
    "KTB: stats and data"
   ]
  },
  {
   "cell_type": "code",
   "execution_count": 1,
   "metadata": {},
   "outputs": [],
   "source": [
    "import pandas, requests, json #, espnff\n",
    "from datetime import datetime\n",
    "league_id = 245118"
   ]
  },
  {
   "cell_type": "markdown",
   "metadata": {},
   "source": [
    "# ------------- SET WEEK --------------"
   ]
  },
  {
   "cell_type": "code",
   "execution_count": 2,
   "metadata": {},
   "outputs": [
    {
     "name": "stdin",
     "output_type": "stream",
     "text": [
      "Which week is it? 8\n"
     ]
    }
   ],
   "source": [
    "week = input(\"Which week is it?\")\n",
    "season = 2024"
   ]
  },
  {
   "cell_type": "markdown",
   "metadata": {},
   "source": [
    "# ^^^^^^^ SET WEEK ^^^^^^^^^^^"
   ]
  },
  {
   "cell_type": "code",
   "execution_count": 3,
   "metadata": {},
   "outputs": [
    {
     "name": "stdout",
     "output_type": "stream",
     "text": [
      "2024 8\n"
     ]
    }
   ],
   "source": [
    "print(season, week)"
   ]
  },
  {
   "cell_type": "code",
   "execution_count": 4,
   "metadata": {
    "jupyter": {
     "source_hidden": true
    },
    "tags": []
   },
   "outputs": [],
   "source": [
    "## total score, player projected and actual  - NO PLAYER ID\n",
    "#https://fantasy.espn.com/apis/v3/games/ffl/seasons/2021/segments/0/leagues/245118?view=mMatchupScore\n",
    "\n",
    "## same data as mMatchupScore, but it includes the playerIDs\n",
    "# https://fantasy.espn.com/apis/v3/games/ffl/seasons/2021/segments/0/leagues/245118?view=mBoxscore\n",
    "# https://fantasy.espn.com/apis/v3/games/ffl/seasons/2021/segments/0/leagues/245118?view=mBoxscore&scoringPeriodId={}&matchupPeriodId={}\n",
    "### mBoxscore[schedule][matchup# (0-83)][away/home][entries][0-14]\n",
    "##### [lineupSlotId]\n",
    "##### [playerId]\n",
    "##### [player][eligibleSlots].values to assign the players position based off linupSlotId\n",
    "##### [player][stats][0/1]\n",
    "######### [appliedTotal]  filter based on [statSourceId] == 0 #actual, ==1 # projected\n",
    "\n",
    "\n",
    "## team records, streaks, and PF/PA\n",
    "#https://fantasy.espn.com/apis/v3/games/ffl/seasons/2021/segments/0/leagues/245118?view=mTeam\n",
    "# mTeam[teams][0-11][record][overall]\n",
    "## [losses/wins/ties]\n",
    "## [pointsAgainst/pointsFor]\n",
    "## [streakLength/streakType]\n",
    "\n",
    "\n",
    "#all views at once \n",
    "#?view=mDraftDetail&view=mLiveScoring&view=mMatchupScore&view=mPendingTransactions&view=mPositionalRatings&view=mSettings&view=mTeam&view=modular&view=mNav&view=mMatchupScore"
   ]
  },
  {
   "cell_type": "code",
   "execution_count": 5,
   "metadata": {},
   "outputs": [],
   "source": [
    "# retrieves the entire player population\n",
    "headers = {\n",
    "  'X-Fantasy-Filter': '{\"players\": {\"limit\": 5000, \"sortPercOwned\":{\"sortAsc\":false,\"sortPriority\":1}}}'\n",
    "}\n",
    "\n",
    "cookies = {'SWID':'{53904938-E572-4FD1-9F30-10A8A39DA775}', \n",
    "'espn_s2':'AEBvpGk1SP6ibJZS7FOb%2Fj96G4TZWJrrUKPGNpWRagAthxCljUQkzY7J6sxAt%2Bezfk9fygiXuoY1aBehpYE0m4n7L%2BwbOJXPBOVp10dpJ3BXGwLy9RB5HI%2FNAOnL4czsqizbi%2FPdMexDbiLunx35kXtV4JWzlc3UqS%2Fkvqw6%2F58pzotJFoF%2FTK3mCgUyherJPFl26P5ItBVe2dGf6Y0%2B2WDjiDOLAh4xeXDggKVyoOxBoGZT4ODtKLk9agSEmSG9zwz73MGF6JerNaTg%2BcPKxRZex6f9caDHD%2BSxj2zcwh3q6w%3D%3D'\n",
    "}"
   ]
  },
  {
   "cell_type": "code",
   "execution_count": 6,
   "metadata": {},
   "outputs": [],
   "source": [
    "# fantasy.espn seems to be deprecated for lm-api-reads. fucking mouse\n",
    "#url = \"https://fantasy.espn.com/apis/v3/games/ffl/seasons/{}/segments/0/leagues/245118?view=kona_player_info&scoringPeriodId={}\"\n",
    "#url = \"https://lm-api-reads.fantasy.espn.com/apis/v3/games/ffl/seasons/{}/segments/0/leagues/245118?view=modular&view=mNav&view=mMatchupScore&view=mScoreboard&view=mSettings&view=mTopPerformers&view=mTeam\"\n",
    "url = \"https://lm-api-reads.fantasy.espn.com/apis/v3/games/ffl/seasons/{}/segments/0/leagues/245118?view=kona_player_info&scoringPeriodId={}\"\n",
    "response = requests.request(\"GET\", url.format(season, week), headers=headers, cookies=cookies)\n",
    "player_json = json.loads(response.content)\n",
    "with open('..\\Data\\Season\\{}week{}_player.txt'.format(season, week), 'w') as outfile:\n",
    "    json.dump(player_json, outfile)"
   ]
  },
  {
   "cell_type": "code",
   "execution_count": 7,
   "metadata": {},
   "outputs": [],
   "source": [
    "url = \"https://lm-api-reads.fantasy.espn.com/apis/v3/games/ffl/seasons/{}/segments/0/leagues/245118?view=mLiveScoring&view=mMatchupScore&view=mPositionalRatings&view=mTeam&view=modular&view=mNav&view=mMatchupScore&scoringPeriodId={}\"\n",
    "response = requests.request(\"GET\", url.format(season, week), headers=headers, cookies=cookies)\n",
    "league_json = json.loads(response.content)\n",
    "with open('..\\Data\\Season\\{}week{}_league.txt'.format(season, week), 'w') as outfile:\n",
    "    json.dump(league_json, outfile)"
   ]
  },
  {
   "cell_type": "code",
   "execution_count": 8,
   "metadata": {},
   "outputs": [],
   "source": [
    "url = \"https://lm-api-reads.fantasy.espn.com/apis/v3/games/ffl/seasons/{}/segments/0/leagues/245118?view=mBoxscore&scoringPeriodId={}\"\n",
    "response = requests.request(\"GET\", url.format(season, week), headers=headers, cookies=cookies)\n",
    "boxscore_json = json.loads(response.content)\n",
    "with open('..\\Data\\Season\\{}week{}_boxscore.txt'.format(season, week), 'w') as outfile:\n",
    "    json.dump(boxscore_json, outfile)"
   ]
  },
  {
   "cell_type": "code",
   "execution_count": 17,
   "metadata": {},
   "outputs": [
    {
     "data": {
      "text/plain": [
       "'https://lm-api-reads.fantasy.espn.com/apis/v3/games/ffl/seasons/2024/segments/0/leagues/245118?view=mBoxscore&scoringPeriodId=7'"
      ]
     },
     "execution_count": 17,
     "metadata": {},
     "output_type": "execute_result"
    }
   ],
   "source": [
    "url.format(season, week)"
   ]
  },
  {
   "cell_type": "code",
   "execution_count": 22,
   "metadata": {},
   "outputs": [
    {
     "data": {
      "text/plain": [
       "dict_keys(['draftDetail', 'gameId', 'id', 'schedule', 'scoringPeriodId', 'seasonId', 'segmentId', 'settings', 'status', 'teams'])"
      ]
     },
     "execution_count": 22,
     "metadata": {},
     "output_type": "execute_result"
    }
   ],
   "source": [
    "boxscore_json.keys()"
   ]
  },
  {
   "cell_type": "code",
   "execution_count": 23,
   "metadata": {},
   "outputs": [
    {
     "data": {
      "text/plain": [
       "2"
      ]
     },
     "execution_count": 23,
     "metadata": {},
     "output_type": "execute_result"
    }
   ],
   "source": [
    "boxscore_json['scoringPeriodId']"
   ]
  },
  {
   "cell_type": "code",
   "execution_count": null,
   "metadata": {},
   "outputs": [],
   "source": []
  },
  {
   "cell_type": "code",
   "execution_count": null,
   "metadata": {
    "tags": []
   },
   "outputs": [],
   "source": []
  },
  {
   "cell_type": "code",
   "execution_count": null,
   "metadata": {},
   "outputs": [],
   "source": []
  }
 ],
 "metadata": {
  "kernelspec": {
   "display_name": "Python 3 (ipykernel)",
   "language": "python",
   "name": "python3"
  },
  "language_info": {
   "codemirror_mode": {
    "name": "ipython",
    "version": 3
   },
   "file_extension": ".py",
   "mimetype": "text/x-python",
   "name": "python",
   "nbconvert_exporter": "python",
   "pygments_lexer": "ipython3",
   "version": "3.9.5"
  }
 },
 "nbformat": 4,
 "nbformat_minor": 4
}
