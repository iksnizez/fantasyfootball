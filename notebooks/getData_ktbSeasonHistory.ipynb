{
 "cells": [
  {
   "cell_type": "markdown",
   "id": "b4577948",
   "metadata": {},
   "source": [
    "# league and player history\n",
    "##### run after season finishes"
   ]
  },
  {
   "cell_type": "code",
   "execution_count": 1,
   "id": "8adb4a26",
   "metadata": {},
   "outputs": [],
   "source": [
    "##### importing custom modules from the projects folder\n",
    "import sys\n",
    "from pathlib import Path\n",
    "# Add project root to sys.path\n",
    "PROJECT_ROOT = Path.cwd().parent if Path.cwd().name == \"notebooks\" else Path.cwd()\n",
    "sys.path.append(str(PROJECT_ROOT))\n",
    "import modules.ktbFantasyFootball as ktbff\n",
    "##### -------------------------------------------------\n",
    "from datetime import date\n",
    "\n",
    "##### PARAMS ######\n",
    "league = 'nfl'\n",
    "export = True\n",
    "today = date.today()\n",
    "season = 2024  # 2024 = last run\n",
    "week = 18   # no league history or player history use week\n",
    "###### \n",
    "\n",
    "league = ktbff.ktb(\n",
    "    season = season,\n",
    "    week = week,\n",
    "    database_export = False, \n",
    "    store_locally = True\n",
    ")"
   ]
  },
  {
   "cell_type": "markdown",
   "id": "0b46ae4e",
   "metadata": {},
   "source": [
    "### get json dump from site or file"
   ]
  },
  {
   "cell_type": "code",
   "execution_count": 2,
   "id": "b78f52e0",
   "metadata": {},
   "outputs": [],
   "source": [
    "league.get_league_history(\n",
    "    endpoints = ['mTeam','mBoxscore', 'mRoster','mSettings','kona_player_info','player_wl','mSchedule'],\n",
    "    base_url = None,\n",
    "    json_output_path = None,\n",
    "    filepath_history_json = None\n",
    ")\n",
    "league.get_player_info(\n",
    "    base_url = None,\n",
    "    json_output_path = None    \n",
    ")"
   ]
  },
  {
   "cell_type": "code",
   "execution_count": 4,
   "id": "e8855b5d",
   "metadata": {},
   "outputs": [
    {
     "name": "stdout",
     "output_type": "stream",
     "text": [
      "append to db? True\n",
      "save to json? False\n"
     ]
    }
   ],
   "source": [
    "league.database_export = True\n",
    "league.store_locally = False\n",
    "print('append to db?', league.database_export)\n",
    "print('save to json?', league.store_locally)"
   ]
  },
  {
   "cell_type": "markdown",
   "id": "10195481",
   "metadata": {},
   "source": [
    "### process mTeams - from league_history"
   ]
  },
  {
   "cell_type": "code",
   "execution_count": null,
   "id": "e12d5da0",
   "metadata": {},
   "outputs": [
    {
     "name": "stdout",
     "output_type": "stream",
     "text": [
      "query successfully\n"
     ]
    }
   ],
   "source": [
    "df_teams = league.process_league_history_team(\n",
    "    filepath_history_json = None,\n",
    "    database_table_teams = 'ktbteams'\n",
    ")"
   ]
  },
  {
   "cell_type": "markdown",
   "id": "b78aadfe",
   "metadata": {},
   "source": [
    "### process mBoxscore - from league_history"
   ]
  },
  {
   "cell_type": "code",
   "execution_count": null,
   "id": "6b2531d7",
   "metadata": {},
   "outputs": [
    {
     "name": "stdout",
     "output_type": "stream",
     "text": [
      "successfully added data\n"
     ]
    }
   ],
   "source": [
    "games = league.process_league_history_boxscores(\n",
    "    filepath_history_json = None,\n",
    "    database_table = 'ktbgames'\n",
    ")"
   ]
  },
  {
   "cell_type": "markdown",
   "id": "f2d56968",
   "metadata": {},
   "source": [
    "### process player info - from player_history"
   ]
  },
  {
   "cell_type": "code",
   "execution_count": 5,
   "id": "ef36095b",
   "metadata": {},
   "outputs": [
    {
     "name": "stdout",
     "output_type": "stream",
     "text": [
      "successfully added data to ktbplayers\n"
     ]
    }
   ],
   "source": [
    "players = league.process_league_history_players(\n",
    "    filepath_history_json = None,\n",
    "    database_table = 'ktbplayers'    \n",
    ")"
   ]
  },
  {
   "cell_type": "code",
   "execution_count": null,
   "id": "b37e0f79",
   "metadata": {},
   "outputs": [],
   "source": []
  },
  {
   "cell_type": "code",
   "execution_count": null,
   "id": "1bfe82b4",
   "metadata": {},
   "outputs": [],
   "source": []
  },
  {
   "cell_type": "code",
   "execution_count": null,
   "id": "63729720",
   "metadata": {},
   "outputs": [],
   "source": []
  }
 ],
 "metadata": {
  "kernelspec": {
   "display_name": "fantasyfootball",
   "language": "python",
   "name": "python3"
  },
  "language_info": {
   "codemirror_mode": {
    "name": "ipython",
    "version": 3
   },
   "file_extension": ".py",
   "mimetype": "text/x-python",
   "name": "python",
   "nbconvert_exporter": "python",
   "pygments_lexer": "ipython3",
   "version": "3.12.10"
  }
 },
 "nbformat": 4,
 "nbformat_minor": 5
}
