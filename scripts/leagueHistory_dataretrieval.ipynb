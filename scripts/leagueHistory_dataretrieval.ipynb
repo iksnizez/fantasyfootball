{
 "cells": [
  {
   "cell_type": "code",
   "execution_count": 2,
   "id": "7c37e604-e797-497d-9df9-c0f57bc0c991",
   "metadata": {},
   "outputs": [],
   "source": [
    "import requests, json, math, os #,espnff,\n",
    "import pandas as pd\n",
    "from bs4 import BeautifulSoup as bs\n",
    "from datetime import datetime"
   ]
  },
  {
   "cell_type": "code",
   "execution_count": 7,
   "id": "39d08298-d15c-4683-895c-eed8ac8c37ee",
   "metadata": {},
   "outputs": [],
   "source": [
    "season = 2022  ### <<< INPUT  - the year that the season starts in"
   ]
  },
  {
   "cell_type": "markdown",
   "id": "f11ffd2f-463f-4945-8c7e-c606b001473e",
   "metadata": {},
   "source": [
    "# --- Saving league history - non-current seasons ---"
   ]
  },
  {
   "cell_type": "code",
   "execution_count": 8,
   "id": "4baa46e6-e8e5-485b-bf15-6437fd5a5a37",
   "metadata": {},
   "outputs": [],
   "source": [
    "path = r\"..\\data\\archive\\leagueCreds.txt\"\n",
    "with open(path, 'r', encoding='utf-8') as f:\n",
    "    creds = json.loads(f.read())\n",
    "\n",
    "cookies = creds['cookies']\n",
    "headers = {\n",
    "  'X-Fantasy-Filter': '{\"players\": {\"limit\": 5000, \"sortPercOwned\":{\"sortAsc\":false,\"sortPriority\":1}}}'\n",
    "}\n",
    "\n",
    "lid = creds[\"league_id\"]\n",
    "\n",
    "data = {season:{}}\n",
    "hits = ['mTeam','mBoxscore', 'mRoster','mSettings','kona_player_info','player_wl','mSchedule']\n",
    "\n",
    "for hit in hits:\n",
    "    params={'seasonId':season, 'view':hit}\n",
    "    data[season][hit] = requests.get('https://fantasy.espn.com/apis/v3/games/ffl/leagueHistory/{}'.format(lid),\n",
    "                     params=params, headers=headers).json()#[0] \n",
    "\n",
    "##### saving league history\n",
    "with open(r'..\\data\\League History\\{s}-{f}_league_history.txt'.format(s=min(data.keys()), f=max(data.keys())), 'w') as outfile:\n",
    "    json.dump(data, outfile)"
   ]
  },
  {
   "cell_type": "code",
   "execution_count": null,
   "id": "43357725-68b4-42b4-8203-aa939bc346af",
   "metadata": {},
   "outputs": [],
   "source": []
  },
  {
   "cell_type": "code",
   "execution_count": null,
   "id": "d1d22d56-8a7e-41af-932f-666697d5c784",
   "metadata": {},
   "outputs": [],
   "source": []
  }
 ],
 "metadata": {
  "kernelspec": {
   "display_name": "Python 3 (ipykernel)",
   "language": "python",
   "name": "python3"
  },
  "language_info": {
   "codemirror_mode": {
    "name": "ipython",
    "version": 3
   },
   "file_extension": ".py",
   "mimetype": "text/x-python",
   "name": "python",
   "nbconvert_exporter": "python",
   "pygments_lexer": "ipython3",
   "version": "3.9.5"
  }
 },
 "nbformat": 4,
 "nbformat_minor": 5
}
