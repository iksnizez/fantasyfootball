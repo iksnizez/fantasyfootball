{
 "cells": [
  {
   "cell_type": "code",
   "execution_count": 24,
   "id": "be771a9e",
   "metadata": {},
   "outputs": [
    {
     "name": "stdout",
     "output_type": "stream",
     "text": [
      "Run date: 2025-08-18 \n",
      "Week: 0 \n",
      "inseason run: False \n",
      "export files: True\n"
     ]
    }
   ],
   "source": [
    "##### importing custom modules from the projects folder\n",
    "import sys\n",
    "from pathlib import Path\n",
    "# Add project root to sys.path\n",
    "PROJECT_ROOT = Path.cwd().parent if Path.cwd().name == \"notebooks\" else Path.cwd()\n",
    "sys.path.append(str(PROJECT_ROOT))\n",
    "import modules.scrapers as scrapers\n",
    "import modules.helperModule as hf\n",
    "##### --------------\n",
    "from datetime import date\n",
    "\n",
    "# ====================================\n",
    "#                    PARAMS \n",
    "# ====================================\n",
    "league = 'nfl'\n",
    "export = True # export to csv files\n",
    "today = date.today()\n",
    "season = 2025\n",
    "week = 0\n",
    "inseason = False  # False for running proj, and rank scrapes in the offseason\n",
    "#week = int(input(\"What week is it >>>>>> ? \"))\n",
    "print('Run date:',today, \"\\nWeek:\", week, '\\ninseason run:', inseason, '\\nexport files:', export)\n",
    "# ====================================\n",
    "\n",
    "scraper = scrapers.scrapers(\n",
    "    season = season,\n",
    "    week = week,\n",
    "    today = today\n",
    ")"
   ]
  },
  {
   "cell_type": "markdown",
   "id": "9393dfb8",
   "metadata": {},
   "source": [
    "# SCRAPE DATA\n",
    "# ============="
   ]
  },
  {
   "cell_type": "markdown",
   "id": "cae4dd0e",
   "metadata": {},
   "source": [
    "### INSEASON - Actual game scores and Game betting lines\n",
    "##### run after the last game of the week before TNF game"
   ]
  },
  {
   "cell_type": "code",
   "execution_count": null,
   "id": "83a0dae3",
   "metadata": {},
   "outputs": [],
   "source": [
    "scraper.cbs_game_scores(inseason = inseason, export = export)\n",
    "scraper.bp_lines(export = export)"
   ]
  },
  {
   "cell_type": "markdown",
   "id": "ee2663eb",
   "metadata": {},
   "source": [
    "### INSEASON or OFFSEASON - Projections and Rankings\n",
    "##### offseason - run at any time in the offseason once sites put them up\n",
    "##### inseason - run anytime Tues-Thurs before TNF to get the proj or ranks before cames start"
   ]
  },
  {
   "cell_type": "code",
   "execution_count": null,
   "id": "7028f15a",
   "metadata": {},
   "outputs": [
    {
     "data": {
      "text/plain": [
       "(441, 60)"
      ]
     },
     "execution_count": 199,
     "metadata": {},
     "output_type": "execute_result"
    }
   ],
   "source": [
    "# in- and off-season\n",
    "scraper.cbs_projections(inseason = inseason, export = export)\n",
    "scraper.espn_projections(inseason = inseason, export = export)\n",
    "scraper.nfl_projections(inseason = inseason, export = export)"
   ]
  },
  {
   "cell_type": "code",
   "execution_count": null,
   "id": "8c14652e",
   "metadata": {},
   "outputs": [],
   "source": [
    "# in- and off-season\n",
    "scraper.ffp_ecr_rankings(inseason = inseason, export = export)\n",
    "scraper.espn_rankings(inseason = inseason, export = export)\n",
    "scraper.nfl_rankings(inseason = inseason, export = export)"
   ]
  },
  {
   "cell_type": "markdown",
   "id": "12dab6a5",
   "metadata": {},
   "source": [
    "###  OFFSEASON - ADPs"
   ]
  },
  {
   "cell_type": "code",
   "execution_count": null,
   "id": "16577e07",
   "metadata": {},
   "outputs": [],
   "source": [
    "scraper.cbs_adp(export = export)\n",
    "scraper.ffp_adp(export = export)\n",
    "scraper.espn_adp(export = export)"
   ]
  },
  {
   "cell_type": "markdown",
   "id": "b025001d",
   "metadata": {},
   "source": [
    "# PROCESS SCRAPED DATA"
   ]
  },
  {
   "cell_type": "code",
   "execution_count": null,
   "id": "8e95e51f",
   "metadata": {},
   "outputs": [],
   "source": [
    "# hit db to standardize player, team, outlet, etc... ids \n",
    "scraper.generate_id_maps()"
   ]
  },
  {
   "cell_type": "code",
   "execution_count": null,
   "id": "d8764072",
   "metadata": {},
   "outputs": [],
   "source": [
    "scraper.process_projections()"
   ]
  },
  {
   "cell_type": "code",
   "execution_count": null,
   "id": "be0e48ed",
   "metadata": {},
   "outputs": [],
   "source": [
    "scraper.process_rankings()"
   ]
  },
  {
   "cell_type": "code",
   "execution_count": null,
   "id": "a51f743d",
   "metadata": {},
   "outputs": [],
   "source": [
    "scraper.process_adps()"
   ]
  },
  {
   "cell_type": "code",
   "execution_count": null,
   "id": "6b902098",
   "metadata": {},
   "outputs": [],
   "source": [
    "scraper.process_game_lines(bettingTableName = 'betting')"
   ]
  },
  {
   "cell_type": "markdown",
   "id": "a4bc50fc",
   "metadata": {},
   "source": [
    "# load"
   ]
  },
  {
   "cell_type": "code",
   "execution_count": 49,
   "id": "27277712",
   "metadata": {},
   "outputs": [
    {
     "name": "stdout",
     "output_type": "stream",
     "text": [
      "successfully added data to projection\n"
     ]
    }
   ],
   "source": [
    "hf.export_database(\n",
    "    dataframe=scraper.processed_dfs['projections'],\n",
    "    database_table='projection', \n",
    "    connection_string=None, \n",
    "    if_exists='append'\n",
    ")"
   ]
  },
  {
   "cell_type": "code",
   "execution_count": 31,
   "id": "55a50453",
   "metadata": {},
   "outputs": [
    {
     "name": "stdout",
     "output_type": "stream",
     "text": [
      "successfully added data to ranking\n"
     ]
    }
   ],
   "source": [
    "hf.export_database(\n",
    "    dataframe=scraper.processed_dfs['rankings'],\n",
    "    database_table='ranking', \n",
    "    connection_string=None, \n",
    "    if_exists='append'\n",
    ")"
   ]
  },
  {
   "cell_type": "code",
   "execution_count": 21,
   "id": "9be2284d",
   "metadata": {},
   "outputs": [
    {
     "name": "stdout",
     "output_type": "stream",
     "text": [
      "successfully added data to adp\n"
     ]
    }
   ],
   "source": [
    "hf.export_database(\n",
    "    dataframe=scraper.processed_dfs['adps'],\n",
    "    database_table='adp', \n",
    "    connection_string=None, \n",
    "    if_exists='append'\n",
    ")"
   ]
  },
  {
   "cell_type": "code",
   "execution_count": null,
   "id": "eed70879",
   "metadata": {},
   "outputs": [],
   "source": [
    "\n",
    "hf.export_database(\n",
    "    dataframe=scraper.processed_dfs['lines'], \n",
    "    database_table='betting', \n",
    "    connection_string=None, \n",
    "    if_exists='append'\n",
    ")"
   ]
  },
  {
   "cell_type": "markdown",
   "id": "afa8a69a",
   "metadata": {},
   "source": [
    "# scratch"
   ]
  },
  {
   "cell_type": "code",
   "execution_count": 39,
   "id": "b2e3a4c6",
   "metadata": {},
   "outputs": [],
   "source": [
    "import modules.helperModule as hf\n",
    "import pandas as pd"
   ]
  },
  {
   "cell_type": "code",
   "execution_count": 67,
   "id": "dc586fc5",
   "metadata": {},
   "outputs": [
    {
     "name": "stdout",
     "output_type": "stream",
     "text": [
      "query successful\n"
     ]
    },
    {
     "data": {
      "text/plain": [
       "(1830, 4)"
      ]
     },
     "execution_count": 67,
     "metadata": {},
     "output_type": "execute_result"
    }
   ],
   "source": [
    "df_missing_players = pd.read_csv(r\"C:\\Users\\jrbrz\\Desktop\\projects\\projects\\fantasyfootball\\data\\missingPlayersProj.csv\")\n",
    "dfplayer = hf.query_database(\n",
    "    query=\"SELECT * FROM player\"\n",
    ")\n",
    "# formatting imported data and prepping maps and list\n",
    "dfplayer['joinName']  = dfplayer['name'].str.lower().apply(hf.apply_regex_replacements)\n",
    "map_joinName_to_dbPid = pd.Series(dfplayer.playerId.values, index=dfplayer.joinName).to_dict()\n",
    "players_in_db = list(dfplayer['joinName'].str.lower().apply(hf.apply_regex_replacements))\n",
    "\n",
    "map_source = {\n",
    "    'espn':'espnId', \n",
    "    'fantasyPros':'fpId', \n",
    "    'nfl':'nflId',\n",
    "    'cbs':'cbsId'\n",
    "}\n",
    "\n",
    "# prepping the missing player data for updates or inserts into my db\n",
    "cols_keep = [\n",
    "    'outlet', 'sourceId', 'name'\n",
    "]\n",
    "df_missing_players = df_missing_players[cols_keep]\n",
    "df_missing_players['joinName'] = df_missing_players['name'].str.lower().apply(hf.apply_regex_replacements)\n",
    "# drop rows where ANY of those columns contain alphabetic characters\n",
    "mask = df_missing_players['sourceId'].astype(str).str.contains(r'[A-Za-z]', na=False)\n",
    "df_missing_players = df_missing_players[~mask]\n",
    "df_missing_players['sourceId'] = df_missing_players['sourceId'].astype(float).astype(int)\n",
    "missing_outlets = df_missing_players['outlet'].unique()\n",
    "df_missing_players.shape"
   ]
  },
  {
   "cell_type": "code",
   "execution_count": 68,
   "id": "13338bcb",
   "metadata": {},
   "outputs": [],
   "source": [
    "\n",
    "# ====================\n",
    "#       INSERTS\n",
    "# ====================\n",
    "# get players that are not present in my databased and prep for an insert\n",
    "inserts = df_missing_players[\n",
    "    (~df_missing_players['joinName'].isin(players_in_db))\n",
    "]\n",
    "\n",
    "inserts.loc[:,'outlet'] = inserts['outlet'].replace('fantasyPros', 'fp')\n",
    "inserts = inserts.drop_duplicates(subset=['name', 'outlet'])\n",
    "\n",
    "# making single records f   or each player with all the ids\n",
    "inserts = (\n",
    "    inserts.pivot(index='name', columns='outlet', values='sourceId')\n",
    "    .add_suffix('Id')        # add \"Id\" to each outlet column\n",
    "    .reset_index()           # bring 'name' back as a column\n",
    ")\n",
    "inserts = inserts.copy()\n",
    "# adding joinName back so that it can me used to add posId and teamId\n",
    "inserts['joinName'] = inserts['name'].str.lower().apply(hf.apply_regex_replacements)\n"
   ]
  },
  {
   "cell_type": "code",
   "execution_count": 69,
   "id": "08d8d23f",
   "metadata": {},
   "outputs": [
    {
     "name": "stdout",
     "output_type": "stream",
     "text": [
      "query successful\n"
     ]
    }
   ],
   "source": [
    "\n",
    "# retrieve position ID and team ID for the players being added\n",
    "id_lookups = hf.query_database(\n",
    "    query = '''\n",
    "        SELECT \n",
    "            pid.name, pos.posId as posId, team as teamId\n",
    "        FROM\n",
    "            playeridlookupimport pid\n",
    "        LEFT JOIN pos ON pos.pos = pid.position\n",
    "    '''\n",
    ")\n",
    "id_lookups['teamId'] = id_lookups['teamId'].map(hf.team_map_nfldatapy_to_dbTid)\n",
    "id_lookups['joinName'] = id_lookups['name'].str.lower().apply(hf.apply_regex_replacements)\n",
    "id_lookups.drop(['name'], axis=1, inplace=True)\n",
    "\n",
    "# merge posId and teamId to inserts\n",
    "inserts = inserts.merge(id_lookups, on='joinName', how = 'left')\n",
    "\n",
    "# python or pandas is converting some to float so making sure the ids are ints\n",
    "cols_to_int = [i for i in inserts.columns if 'id' in i.lower()]\n",
    "# drop rows where ANY of those columns contain alphabetic characters\n",
    "inserts[cols_to_int] = (\n",
    "    inserts[cols_to_int]\n",
    "    .apply(pd.to_numeric, errors='coerce')  # non-numeric -> NaN\n",
    "    .astype('Int64')                        # nullable int dtype, keeps NaN\n",
    ")\n"
   ]
  },
  {
   "cell_type": "code",
   "execution_count": 70,
   "id": "ee3ba876",
   "metadata": {},
   "outputs": [
    {
     "data": {
      "text/html": [
       "<div>\n",
       "<style scoped>\n",
       "    .dataframe tbody tr th:only-of-type {\n",
       "        vertical-align: middle;\n",
       "    }\n",
       "\n",
       "    .dataframe tbody tr th {\n",
       "        vertical-align: top;\n",
       "    }\n",
       "\n",
       "    .dataframe thead th {\n",
       "        text-align: right;\n",
       "    }\n",
       "</style>\n",
       "<table border=\"1\" class=\"dataframe\">\n",
       "  <thead>\n",
       "    <tr style=\"text-align: right;\">\n",
       "      <th></th>\n",
       "      <th>posId</th>\n",
       "      <th>teamId</th>\n",
       "      <th>joinName</th>\n",
       "    </tr>\n",
       "  </thead>\n",
       "  <tbody>\n",
       "    <tr>\n",
       "      <th>4</th>\n",
       "      <td>1.0</td>\n",
       "      <td>15</td>\n",
       "      <td>quinn ewers</td>\n",
       "    </tr>\n",
       "  </tbody>\n",
       "</table>\n",
       "</div>"
      ],
      "text/plain": [
       "   posId  teamId     joinName\n",
       "4    1.0      15  quinn ewers"
      ]
     },
     "execution_count": 70,
     "metadata": {},
     "output_type": "execute_result"
    }
   ],
   "source": [
    "id_lookups[id_lookups['joinName'] == 'quinn ewers']"
   ]
  },
  {
   "cell_type": "code",
   "execution_count": 73,
   "id": "db5e95d8",
   "metadata": {},
   "outputs": [
    {
     "data": {
      "text/html": [
       "<div>\n",
       "<style scoped>\n",
       "    .dataframe tbody tr th:only-of-type {\n",
       "        vertical-align: middle;\n",
       "    }\n",
       "\n",
       "    .dataframe tbody tr th {\n",
       "        vertical-align: top;\n",
       "    }\n",
       "\n",
       "    .dataframe thead th {\n",
       "        text-align: right;\n",
       "    }\n",
       "</style>\n",
       "<table border=\"1\" class=\"dataframe\">\n",
       "  <thead>\n",
       "    <tr style=\"text-align: right;\">\n",
       "      <th></th>\n",
       "      <th>name</th>\n",
       "      <th>cbsId</th>\n",
       "      <th>espnId</th>\n",
       "      <th>nflId</th>\n",
       "      <th>joinName</th>\n",
       "      <th>posId</th>\n",
       "      <th>teamId</th>\n",
       "    </tr>\n",
       "  </thead>\n",
       "  <tbody>\n",
       "    <tr>\n",
       "      <th>309</th>\n",
       "      <td>Quinn Ewers</td>\n",
       "      <td>26746721</td>\n",
       "      <td>&lt;NA&gt;</td>\n",
       "      <td>2574321</td>\n",
       "      <td>quinn ewers</td>\n",
       "      <td>1</td>\n",
       "      <td>15</td>\n",
       "    </tr>\n",
       "  </tbody>\n",
       "</table>\n",
       "</div>"
      ],
      "text/plain": [
       "            name     cbsId  espnId    nflId     joinName  posId  teamId\n",
       "309  Quinn Ewers  26746721    <NA>  2574321  quinn ewers      1      15"
      ]
     },
     "execution_count": 73,
     "metadata": {},
     "output_type": "execute_result"
    }
   ],
   "source": [
    "inserts[inserts['joinName'] == 'quinn ewers']"
   ]
  },
  {
   "cell_type": "code",
   "execution_count": null,
   "id": "755b4eb5",
   "metadata": {},
   "outputs": [],
   "source": []
  },
  {
   "cell_type": "code",
   "execution_count": null,
   "id": "ace69785",
   "metadata": {},
   "outputs": [],
   "source": []
  }
 ],
 "metadata": {
  "kernelspec": {
   "display_name": "fantasyfootball",
   "language": "python",
   "name": "python3"
  },
  "language_info": {
   "codemirror_mode": {
    "name": "ipython",
    "version": 3
   },
   "file_extension": ".py",
   "mimetype": "text/x-python",
   "name": "python",
   "nbconvert_exporter": "python",
   "pygments_lexer": "ipython3",
   "version": "3.12.10"
  }
 },
 "nbformat": 4,
 "nbformat_minor": 5
}
