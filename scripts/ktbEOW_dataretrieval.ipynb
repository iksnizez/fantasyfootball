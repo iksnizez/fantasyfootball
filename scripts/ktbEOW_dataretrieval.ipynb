{
 "cells": [
  {
   "cell_type": "raw",
   "metadata": {},
   "source": [
    "KTB: stats and data"
   ]
  },
  {
   "cell_type": "code",
   "execution_count": 1,
   "metadata": {},
   "outputs": [],
   "source": [
    "import pandas, requests, json #, espnff\n",
    "from datetime import datetime\n",
    "league_id = 245118"
   ]
  },
  {
   "cell_type": "markdown",
   "metadata": {},
   "source": [
    "# ------------- SET WEEK --------------"
   ]
  },
  {
   "cell_type": "code",
   "execution_count": 2,
   "metadata": {},
   "outputs": [
    {
     "name": "stdin",
     "output_type": "stream",
     "text": [
      "Which week is it? 6\n"
     ]
    }
   ],
   "source": [
    "week = input(\"Which week is it?\")\n",
    "season = 2023"
   ]
  },
  {
   "cell_type": "markdown",
   "metadata": {},
   "source": [
    "# ^^^^^^^ SET WEEK ^^^^^^^^^^^"
   ]
  },
  {
   "cell_type": "code",
   "execution_count": 3,
   "metadata": {},
   "outputs": [
    {
     "name": "stdout",
     "output_type": "stream",
     "text": [
      "2023 6\n"
     ]
    }
   ],
   "source": [
    "print(season, week)"
   ]
  },
  {
   "cell_type": "code",
   "execution_count": 4,
   "metadata": {
    "jupyter": {
     "source_hidden": true
    },
    "tags": []
   },
   "outputs": [],
   "source": [
    "## total score, player projected and actual  - NO PLAYER ID\n",
    "#https://fantasy.espn.com/apis/v3/games/ffl/seasons/2021/segments/0/leagues/245118?view=mMatchupScore\n",
    "\n",
    "## same data as mMatchupScore, but it includes the playerIDs\n",
    "# https://fantasy.espn.com/apis/v3/games/ffl/seasons/2021/segments/0/leagues/245118?view=mBoxscore\n",
    "# https://fantasy.espn.com/apis/v3/games/ffl/seasons/2021/segments/0/leagues/245118?view=mBoxscore&scoringPeriodId={}&matchupPeriodId={}\n",
    "### mBoxscore[schedule][matchup# (0-83)][away/home][entries][0-14]\n",
    "##### [lineupSlotId]\n",
    "##### [playerId]\n",
    "##### [player][eligibleSlots].values to assign the players position based off linupSlotId\n",
    "##### [player][stats][0/1]\n",
    "######### [appliedTotal]  filter based on [statSourceId] == 0 #actual, ==1 # projected\n",
    "\n",
    "\n",
    "## team records, streaks, and PF/PA\n",
    "#https://fantasy.espn.com/apis/v3/games/ffl/seasons/2021/segments/0/leagues/245118?view=mTeam\n",
    "# mTeam[teams][0-11][record][overall]\n",
    "## [losses/wins/ties]\n",
    "## [pointsAgainst/pointsFor]\n",
    "## [streakLength/streakType]\n",
    "\n",
    "\n",
    "#all views at once \n",
    "#?view=mDraftDetail&view=mLiveScoring&view=mMatchupScore&view=mPendingTransactions&view=mPositionalRatings&view=mSettings&view=mTeam&view=modular&view=mNav&view=mMatchupScore"
   ]
  },
  {
   "cell_type": "code",
   "execution_count": 5,
   "metadata": {},
   "outputs": [],
   "source": [
    "# retrieves the entire player population\n",
    "headers = {\n",
    "  'X-Fantasy-Filter': '{\"players\": {\"limit\": 5000, \"sortPercOwned\":{\"sortAsc\":false,\"sortPriority\":1}}}'\n",
    "}\n",
    "\n",
    "cookies = {'SWID':'{53904938-E572-4FD1-9F30-10A8A39DA775}', \n",
    "'espn_s2':'AEBYlwRe6QId5pjWbC23XMeT1GfxZRz4Im3RWWAidsQjflJzttPKwIigRhW1mR6yHfVCfbXSonbsX%2B15VCIGu6mTFw6FajidlwzLIUk3Np9%2Bl7I2VNiaxPh%2F%2FUg0jHs6uoko6VTPs2Y1GlgMMOJ8IRVhtJjW4RIyrbyO%2Ftrvf3HWmVvhMZGdG3EKO9h4UYbcUaVIwZxUBbmrKKmFOZoHaMVpgXGGAJVkhtgxA2RVgW%2FqOkQhoPopTDvRuMTJuTEiOghEDxRREO9ztYr5S%2BhmByiQ'\n",
    "}"
   ]
  },
  {
   "cell_type": "code",
   "execution_count": 6,
   "metadata": {},
   "outputs": [],
   "source": [
    "url = \"https://fantasy.espn.com/apis/v3/games/ffl/seasons/{}/segments/0/leagues/245118?view=kona_player_info\"\n",
    "response = requests.request(\"GET\", url.format(season), headers=headers, cookies=cookies)\n",
    "player_json = json.loads(response.content)\n",
    "with open('..\\Data\\Season\\{}week{}_player.txt'.format(season, week), 'w') as outfile:\n",
    "    json.dump(player_json, outfile)"
   ]
  },
  {
   "cell_type": "code",
   "execution_count": 7,
   "metadata": {},
   "outputs": [],
   "source": [
    "url = \"https://fantasy.espn.com/apis/v3/games/ffl/seasons/{}/segments/0/leagues/245118?view=mLiveScoring&view=mMatchupScore&view=mPositionalRatings&view=mTeam&view=modular&view=mNav&view=mMatchupScore\"\n",
    "response = requests.request(\"GET\", url.format(season), headers=headers, cookies=cookies)\n",
    "league_json = json.loads(response.content)\n",
    "with open('..\\Data\\Season\\{}week{}_league.txt'.format(season, week), 'w') as outfile:\n",
    "    json.dump(league_json, outfile)"
   ]
  },
  {
   "cell_type": "code",
   "execution_count": 8,
   "metadata": {},
   "outputs": [],
   "source": [
    "url = \"https://fantasy.espn.com/apis/v3/games/ffl/seasons/{}/segments/0/leagues/245118?view=mBoxscore&scoringPeriodId={}\"\n",
    "response = requests.request(\"GET\", url.format(season, week), headers=headers, cookies=cookies)\n",
    "boxscore_json = json.loads(response.content)\n",
    "with open('..\\Data\\Season\\{}week{}_boxscore.txt'.format(season, week), 'w') as outfile:\n",
    "    json.dump(boxscore_json, outfile)"
   ]
  },
  {
   "cell_type": "code",
   "execution_count": null,
   "metadata": {},
   "outputs": [],
   "source": []
  },
  {
   "cell_type": "code",
   "execution_count": null,
   "metadata": {},
   "outputs": [],
   "source": []
  },
  {
   "cell_type": "code",
   "execution_count": null,
   "metadata": {},
   "outputs": [],
   "source": []
  },
  {
   "cell_type": "code",
   "execution_count": null,
   "metadata": {},
   "outputs": [],
   "source": []
  },
  {
   "cell_type": "code",
   "execution_count": null,
   "metadata": {
    "tags": []
   },
   "outputs": [],
   "source": []
  },
  {
   "cell_type": "code",
   "execution_count": null,
   "metadata": {},
   "outputs": [],
   "source": []
  }
 ],
 "metadata": {
  "kernelspec": {
   "display_name": "Python 3 (ipykernel)",
   "language": "python",
   "name": "python3"
  },
  "language_info": {
   "codemirror_mode": {
    "name": "ipython",
    "version": 3
   },
   "file_extension": ".py",
   "mimetype": "text/x-python",
   "name": "python",
   "nbconvert_exporter": "python",
   "pygments_lexer": "ipython3",
   "version": "3.9.5"
  }
 },
 "nbformat": 4,
 "nbformat_minor": 4
}
